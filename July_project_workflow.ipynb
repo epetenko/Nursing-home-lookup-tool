{
 "cells": [
  {
   "cell_type": "code",
   "execution_count": 1,
   "metadata": {
    "collapsed": false
   },
   "outputs": [],
   "source": [
    "import pandas as pd\n",
    "import numpy as np\n",
    "import matplotlib.pyplot as plt\n",
    "%matplotlib inline"
   ]
  },
  {
   "cell_type": "markdown",
   "metadata": {},
   "source": [
    "# Part 1: Cost Report data"
   ]
  },
  {
   "cell_type": "markdown",
   "metadata": {},
   "source": [
    "Source: The Skilled Nursing Facility Cost Report forms, a highly technical pdf report that is sent to CMS and turned into a machine-readable database on a yearly basis. [Link](https://www.cms.gov/Research-Statistics-Data-and-Systems/Downloadable-Public-Use-Files/Cost-Reports/Cost-Reports-by-Fiscal-Year.html)\n",
    "\n",
    "The data is highly vertical, with the basic layout being that each row specifies the page and section of the pdf and the value for each nursing home report. The advantage is that this is more accurate for providing information such as staffing levels; it's used in the tool to give the staffing hours for each nursing home."
   ]
  },
  {
   "cell_type": "code",
   "execution_count": 2,
   "metadata": {
    "collapsed": false
   },
   "outputs": [],
   "source": [
    "#STEP 1. Process metadata on the reports\n",
    "#  reports folder connects NPI to report number\n",
    "# a. read in csv\n",
    "rp = pd.read_csv('SNF10FY2017/snf10_2017_RPT.CSV', header=None, names=['RPT_REC_NUM', \n",
    "'PRVDR_CTRL_TYPE_CD', \n",
    "'NPI', \n",
    "'PRVDR_NUM', \n",
    "'RPT_STUS_CD', \n",
    "'FY_BGN_DT', \n",
    "'FY_END_DT', \n",
    "'PROC_DT', \n",
    "'INITL_RPT_SW', \n",
    "'LAST_RPT_SW', \n",
    "'TRNSMTL_NUM', \n",
    "'FI_NUM', \n",
    "'ADR_VNDR_CD', \n",
    "'FI_CREAT_DT', \n",
    "'UTIL_CD', \n",
    "'NPR_DT', \n",
    "'SPEC_IND', \n",
    "'FI_RCPT_DT'], index_col=False, dtype={'RPT_REC_NUM':str, 'NPI':str})"
   ]
  },
  {
   "cell_type": "code",
   "execution_count": 3,
   "metadata": {
    "collapsed": false,
    "scrolled": true
   },
   "outputs": [
    {
     "data": {
      "text/html": [
       "<div>\n",
       "<style scoped>\n",
       "    .dataframe tbody tr th:only-of-type {\n",
       "        vertical-align: middle;\n",
       "    }\n",
       "\n",
       "    .dataframe tbody tr th {\n",
       "        vertical-align: top;\n",
       "    }\n",
       "\n",
       "    .dataframe thead th {\n",
       "        text-align: right;\n",
       "    }\n",
       "</style>\n",
       "<table border=\"1\" class=\"dataframe\">\n",
       "  <thead>\n",
       "    <tr style=\"text-align: right;\">\n",
       "      <th></th>\n",
       "      <th>RPT_REC_NUM</th>\n",
       "      <th>PRVDR_CTRL_TYPE_CD</th>\n",
       "      <th>NPI</th>\n",
       "      <th>PRVDR_NUM</th>\n",
       "      <th>RPT_STUS_CD</th>\n",
       "      <th>FY_BGN_DT</th>\n",
       "      <th>FY_END_DT</th>\n",
       "      <th>PROC_DT</th>\n",
       "      <th>INITL_RPT_SW</th>\n",
       "      <th>LAST_RPT_SW</th>\n",
       "      <th>TRNSMTL_NUM</th>\n",
       "      <th>FI_NUM</th>\n",
       "      <th>ADR_VNDR_CD</th>\n",
       "      <th>FI_CREAT_DT</th>\n",
       "      <th>UTIL_CD</th>\n",
       "      <th>NPR_DT</th>\n",
       "      <th>SPEC_IND</th>\n",
       "      <th>FI_RCPT_DT</th>\n",
       "    </tr>\n",
       "  </thead>\n",
       "  <tbody>\n",
       "    <tr>\n",
       "      <th>0</th>\n",
       "      <td>1156385</td>\n",
       "      <td>5.0</td>\n",
       "      <td>225718</td>\n",
       "      <td>NaN</td>\n",
       "      <td>2</td>\n",
       "      <td>10/01/2016</td>\n",
       "      <td>10/31/2016</td>\n",
       "      <td>04/26/2017</td>\n",
       "      <td>N</td>\n",
       "      <td>N</td>\n",
       "      <td>NaN</td>\n",
       "      <td>5901</td>\n",
       "      <td>4</td>\n",
       "      <td>04/26/2017</td>\n",
       "      <td>F</td>\n",
       "      <td>04/25/2017</td>\n",
       "      <td>NaN</td>\n",
       "      <td>03/01/2017</td>\n",
       "    </tr>\n",
       "    <tr>\n",
       "      <th>1</th>\n",
       "      <td>1157220</td>\n",
       "      <td>4.0</td>\n",
       "      <td>345507</td>\n",
       "      <td>NaN</td>\n",
       "      <td>2</td>\n",
       "      <td>10/01/2016</td>\n",
       "      <td>12/31/2016</td>\n",
       "      <td>05/15/2017</td>\n",
       "      <td>N</td>\n",
       "      <td>N</td>\n",
       "      <td>NaN</td>\n",
       "      <td>11501</td>\n",
       "      <td>4</td>\n",
       "      <td>05/09/2017</td>\n",
       "      <td>F</td>\n",
       "      <td>05/09/2017</td>\n",
       "      <td>NaN</td>\n",
       "      <td>05/03/2017</td>\n",
       "    </tr>\n",
       "    <tr>\n",
       "      <th>2</th>\n",
       "      <td>1157221</td>\n",
       "      <td>4.0</td>\n",
       "      <td>345222</td>\n",
       "      <td>NaN</td>\n",
       "      <td>2</td>\n",
       "      <td>10/01/2016</td>\n",
       "      <td>12/31/2016</td>\n",
       "      <td>05/15/2017</td>\n",
       "      <td>N</td>\n",
       "      <td>N</td>\n",
       "      <td>NaN</td>\n",
       "      <td>11501</td>\n",
       "      <td>4</td>\n",
       "      <td>05/09/2017</td>\n",
       "      <td>F</td>\n",
       "      <td>05/09/2017</td>\n",
       "      <td>NaN</td>\n",
       "      <td>05/03/2017</td>\n",
       "    </tr>\n",
       "    <tr>\n",
       "      <th>3</th>\n",
       "      <td>1157223</td>\n",
       "      <td>4.0</td>\n",
       "      <td>345567</td>\n",
       "      <td>NaN</td>\n",
       "      <td>2</td>\n",
       "      <td>10/01/2016</td>\n",
       "      <td>12/31/2016</td>\n",
       "      <td>05/15/2017</td>\n",
       "      <td>N</td>\n",
       "      <td>N</td>\n",
       "      <td>NaN</td>\n",
       "      <td>11501</td>\n",
       "      <td>4</td>\n",
       "      <td>05/10/2017</td>\n",
       "      <td>F</td>\n",
       "      <td>05/09/2017</td>\n",
       "      <td>NaN</td>\n",
       "      <td>05/03/2017</td>\n",
       "    </tr>\n",
       "    <tr>\n",
       "      <th>4</th>\n",
       "      <td>1158700</td>\n",
       "      <td>4.0</td>\n",
       "      <td>135038</td>\n",
       "      <td>NaN</td>\n",
       "      <td>1</td>\n",
       "      <td>10/01/2016</td>\n",
       "      <td>12/31/2016</td>\n",
       "      <td>05/31/2017</td>\n",
       "      <td>N</td>\n",
       "      <td>N</td>\n",
       "      <td>NaN</td>\n",
       "      <td>10001</td>\n",
       "      <td>4</td>\n",
       "      <td>05/23/2017</td>\n",
       "      <td>F</td>\n",
       "      <td>NaN</td>\n",
       "      <td>NaN</td>\n",
       "      <td>05/04/2017</td>\n",
       "    </tr>\n",
       "  </tbody>\n",
       "</table>\n",
       "</div>"
      ],
      "text/plain": [
       "  RPT_REC_NUM  PRVDR_CTRL_TYPE_CD     NPI  PRVDR_NUM  RPT_STUS_CD   FY_BGN_DT  \\\n",
       "0     1156385                 5.0  225718        NaN            2  10/01/2016   \n",
       "1     1157220                 4.0  345507        NaN            2  10/01/2016   \n",
       "2     1157221                 4.0  345222        NaN            2  10/01/2016   \n",
       "3     1157223                 4.0  345567        NaN            2  10/01/2016   \n",
       "4     1158700                 4.0  135038        NaN            1  10/01/2016   \n",
       "\n",
       "    FY_END_DT     PROC_DT INITL_RPT_SW LAST_RPT_SW TRNSMTL_NUM  FI_NUM  \\\n",
       "0  10/31/2016  04/26/2017            N           N         NaN    5901   \n",
       "1  12/31/2016  05/15/2017            N           N         NaN   11501   \n",
       "2  12/31/2016  05/15/2017            N           N         NaN   11501   \n",
       "3  12/31/2016  05/15/2017            N           N         NaN   11501   \n",
       "4  12/31/2016  05/31/2017            N           N         NaN   10001   \n",
       "\n",
       "   ADR_VNDR_CD FI_CREAT_DT UTIL_CD      NPR_DT SPEC_IND  FI_RCPT_DT  \n",
       "0            4  04/26/2017       F  04/25/2017      NaN  03/01/2017  \n",
       "1            4  05/09/2017       F  05/09/2017      NaN  05/03/2017  \n",
       "2            4  05/09/2017       F  05/09/2017      NaN  05/03/2017  \n",
       "3            4  05/10/2017       F  05/09/2017      NaN  05/03/2017  \n",
       "4            4  05/23/2017       F         NaN      NaN  05/04/2017  "
      ]
     },
     "execution_count": 3,
     "metadata": {},
     "output_type": "execute_result"
    }
   ],
   "source": [
    "rp.head()"
   ]
  },
  {
   "cell_type": "code",
   "execution_count": 4,
   "metadata": {
    "collapsed": false
   },
   "outputs": [],
   "source": [
    "# c. list of providers allows me to filter data to NJ\n",
    "pro = pd.read_csv('July_2019_project/Provider_Info.csv', dtype={'provnum':str}).rename(columns={'Federal Provider Number':'provnum',\n",
    "                                                                                          'Provider State':'STATE'})\n",
    "\n",
    "pro = pro[['provnum', 'STATE']].drop_duplicates()\n",
    "\n",
    "#merge with report file to get record nos.\n",
    "st_rp = rp.merge(pro, how='left', left_on='NPI', right_on='provnum')\n",
    "\n",
    "#limit to full-year data\n",
    "# st_rp = st_rp[(st_rp['FY_BGN_DT'] == '01/01/2015') & (st_rp['FY_END_DT'] == '12/31/2015')]\n",
    "st_npi = st_rp[['RPT_REC_NUM', 'NPI', 'STATE']]"
   ]
  },
  {
   "cell_type": "code",
   "execution_count": 5,
   "metadata": {
    "collapsed": false
   },
   "outputs": [
    {
     "data": {
      "text/plain": [
       "RPT_REC_NUM      0\n",
       "NPI              0\n",
       "STATE          216\n",
       "dtype: int64"
      ]
     },
     "execution_count": 5,
     "metadata": {},
     "output_type": "execute_result"
    }
   ],
   "source": [
    "st_npi.isnull().sum()"
   ]
  },
  {
   "cell_type": "code",
   "execution_count": 6,
   "metadata": {
    "collapsed": true
   },
   "outputs": [],
   "source": [
    "#reading in the text data\n",
    "al = pd.read_csv('SNF10FY2017/snf10_2017_ALPHA.CSV', header=None, names = ['RPT_REC_NUM', 'WKSHT_CD', 'LINE_NUM', 'CLMN_NUM', 'ITM_ALPHNMRC_ITM_TXT'], dtype={'RPT_REC_NUM':str, 'LINE_NUM':str, 'CLMN_NUM':str})"
   ]
  },
  {
   "cell_type": "code",
   "execution_count": 7,
   "metadata": {
    "collapsed": false
   },
   "outputs": [
    {
     "data": {
      "text/html": [
       "<div>\n",
       "<style scoped>\n",
       "    .dataframe tbody tr th:only-of-type {\n",
       "        vertical-align: middle;\n",
       "    }\n",
       "\n",
       "    .dataframe tbody tr th {\n",
       "        vertical-align: top;\n",
       "    }\n",
       "\n",
       "    .dataframe thead th {\n",
       "        text-align: right;\n",
       "    }\n",
       "</style>\n",
       "<table border=\"1\" class=\"dataframe\">\n",
       "  <thead>\n",
       "    <tr style=\"text-align: right;\">\n",
       "      <th></th>\n",
       "      <th>RPT_REC_NUM</th>\n",
       "      <th>WKSHT_CD</th>\n",
       "      <th>LINE_NUM</th>\n",
       "      <th>CLMN_NUM</th>\n",
       "      <th>ITM_ALPHNMRC_ITM_TXT</th>\n",
       "    </tr>\n",
       "  </thead>\n",
       "  <tbody>\n",
       "    <tr>\n",
       "      <th>0</th>\n",
       "      <td>1156385</td>\n",
       "      <td>A000000</td>\n",
       "      <td>00100</td>\n",
       "      <td>00000</td>\n",
       "      <td>0100CAP REL COSTS - BLDGS &amp; FIXTURES</td>\n",
       "    </tr>\n",
       "    <tr>\n",
       "      <th>1</th>\n",
       "      <td>1156385</td>\n",
       "      <td>A000000</td>\n",
       "      <td>00200</td>\n",
       "      <td>00000</td>\n",
       "      <td>0200CAP REL COSTS - MOVABLE EQUIPMEN</td>\n",
       "    </tr>\n",
       "    <tr>\n",
       "      <th>2</th>\n",
       "      <td>1156385</td>\n",
       "      <td>A000000</td>\n",
       "      <td>00300</td>\n",
       "      <td>00000</td>\n",
       "      <td>0300EMPLOYEE BENEFITS</td>\n",
       "    </tr>\n",
       "    <tr>\n",
       "      <th>3</th>\n",
       "      <td>1156385</td>\n",
       "      <td>A000000</td>\n",
       "      <td>00400</td>\n",
       "      <td>00000</td>\n",
       "      <td>0400ADMINISTRATIVE &amp; GENERAL</td>\n",
       "    </tr>\n",
       "    <tr>\n",
       "      <th>4</th>\n",
       "      <td>1156385</td>\n",
       "      <td>A000000</td>\n",
       "      <td>00500</td>\n",
       "      <td>00000</td>\n",
       "      <td>0500PLANT OPERATION  MAINT. &amp; REPAIR</td>\n",
       "    </tr>\n",
       "  </tbody>\n",
       "</table>\n",
       "</div>"
      ],
      "text/plain": [
       "  RPT_REC_NUM WKSHT_CD LINE_NUM CLMN_NUM                  ITM_ALPHNMRC_ITM_TXT\n",
       "0     1156385  A000000    00100    00000  0100CAP REL COSTS - BLDGS & FIXTURES\n",
       "1     1156385  A000000    00200    00000  0200CAP REL COSTS - MOVABLE EQUIPMEN\n",
       "2     1156385  A000000    00300    00000                 0300EMPLOYEE BENEFITS\n",
       "3     1156385  A000000    00400    00000          0400ADMINISTRATIVE & GENERAL\n",
       "4     1156385  A000000    00500    00000  0500PLANT OPERATION  MAINT. & REPAIR"
      ]
     },
     "execution_count": 7,
     "metadata": {},
     "output_type": "execute_result"
    }
   ],
   "source": [
    "al.head()"
   ]
  },
  {
   "cell_type": "code",
   "execution_count": 8,
   "metadata": {
    "collapsed": false
   },
   "outputs": [],
   "source": [
    "# filter_df(al_npi_fil, 'alpha')"
   ]
  },
  {
   "cell_type": "code",
   "execution_count": 9,
   "metadata": {
    "collapsed": false
   },
   "outputs": [],
   "source": [
    "#b. adding the npi of the report number for just the homes we're looking for  - will become more clear later on\n",
    "al_npi_fil = al.merge(st_npi, how='left', on='RPT_REC_NUM')"
   ]
  },
  {
   "cell_type": "code",
   "execution_count": 10,
   "metadata": {
    "collapsed": true
   },
   "outputs": [],
   "source": [
    "#same thing with numeric data\n",
    "num = pd.read_csv('SNF10FY2017/snf10_2017_NMRC.CSV', header=None, names = ['RPT_REC_NUM', 'WKSHT_CD', 'LINE_NUM', 'CLMN_NUM', 'ITM_VAL_NUM'], dtype={'RPT_REC_NUM':str, 'LINE_NUM':str, 'CLMN_NUM':str})"
   ]
  },
  {
   "cell_type": "code",
   "execution_count": 11,
   "metadata": {
    "collapsed": false
   },
   "outputs": [
    {
     "data": {
      "text/html": [
       "<div>\n",
       "<style scoped>\n",
       "    .dataframe tbody tr th:only-of-type {\n",
       "        vertical-align: middle;\n",
       "    }\n",
       "\n",
       "    .dataframe tbody tr th {\n",
       "        vertical-align: top;\n",
       "    }\n",
       "\n",
       "    .dataframe thead th {\n",
       "        text-align: right;\n",
       "    }\n",
       "</style>\n",
       "<table border=\"1\" class=\"dataframe\">\n",
       "  <thead>\n",
       "    <tr style=\"text-align: right;\">\n",
       "      <th></th>\n",
       "      <th>RPT_REC_NUM</th>\n",
       "      <th>WKSHT_CD</th>\n",
       "      <th>LINE_NUM</th>\n",
       "      <th>CLMN_NUM</th>\n",
       "      <th>ITM_VAL_NUM</th>\n",
       "    </tr>\n",
       "  </thead>\n",
       "  <tbody>\n",
       "    <tr>\n",
       "      <th>0</th>\n",
       "      <td>1156385</td>\n",
       "      <td>A000000</td>\n",
       "      <td>00100</td>\n",
       "      <td>00200</td>\n",
       "      <td>84299.0</td>\n",
       "    </tr>\n",
       "    <tr>\n",
       "      <th>1</th>\n",
       "      <td>1156385</td>\n",
       "      <td>A000000</td>\n",
       "      <td>00100</td>\n",
       "      <td>00300</td>\n",
       "      <td>84299.0</td>\n",
       "    </tr>\n",
       "    <tr>\n",
       "      <th>2</th>\n",
       "      <td>1156385</td>\n",
       "      <td>A000000</td>\n",
       "      <td>00100</td>\n",
       "      <td>00500</td>\n",
       "      <td>84299.0</td>\n",
       "    </tr>\n",
       "    <tr>\n",
       "      <th>3</th>\n",
       "      <td>1156385</td>\n",
       "      <td>A000000</td>\n",
       "      <td>00100</td>\n",
       "      <td>00600</td>\n",
       "      <td>736.0</td>\n",
       "    </tr>\n",
       "    <tr>\n",
       "      <th>4</th>\n",
       "      <td>1156385</td>\n",
       "      <td>A000000</td>\n",
       "      <td>00100</td>\n",
       "      <td>00700</td>\n",
       "      <td>85035.0</td>\n",
       "    </tr>\n",
       "  </tbody>\n",
       "</table>\n",
       "</div>"
      ],
      "text/plain": [
       "  RPT_REC_NUM WKSHT_CD LINE_NUM CLMN_NUM  ITM_VAL_NUM\n",
       "0     1156385  A000000    00100    00200      84299.0\n",
       "1     1156385  A000000    00100    00300      84299.0\n",
       "2     1156385  A000000    00100    00500      84299.0\n",
       "3     1156385  A000000    00100    00600        736.0\n",
       "4     1156385  A000000    00100    00700      85035.0"
      ]
     },
     "execution_count": 11,
     "metadata": {},
     "output_type": "execute_result"
    }
   ],
   "source": [
    "num.head()"
   ]
  },
  {
   "cell_type": "code",
   "execution_count": 12,
   "metadata": {
    "collapsed": false
   },
   "outputs": [],
   "source": [
    "# filter_df(num_npi, 'num')"
   ]
  },
  {
   "cell_type": "code",
   "execution_count": 13,
   "metadata": {
    "collapsed": true
   },
   "outputs": [],
   "source": [
    "#b. \n",
    "num_npi_fil = num.merge(st_npi, how='left', on='RPT_REC_NUM')"
   ]
  },
  {
   "cell_type": "code",
   "execution_count": 14,
   "metadata": {
    "collapsed": false
   },
   "outputs": [],
   "source": [
    "#now we filter the dataset to just the NPIs we want.\n",
    "# al_spec = al_npi_fil[al_npi_fil['NPI'].apply(lambda x: x in npis)]\n",
    "# num_spec = num_npi_fil[num_npi_fil['NPI'].apply(lambda x: x in npis)]"
   ]
  },
  {
   "cell_type": "code",
   "execution_count": 15,
   "metadata": {
    "collapsed": false
   },
   "outputs": [],
   "source": [
    "#c. get state data + create NJ dataset\n",
    "# first have to add state of each\n",
    "al_nj_npi = al.merge(st_npi, how='left', on='RPT_REC_NUM')\n",
    "num_nj_npi = num.merge(st_npi, how='left', on='RPT_REC_NUM')"
   ]
  },
  {
   "cell_type": "code",
   "execution_count": 16,
   "metadata": {
    "collapsed": false
   },
   "outputs": [],
   "source": [
    "#Just NJ values\n",
    "al_nj = al_npi_fil[al_npi_fil['STATE'] == 'NJ']\n",
    "num_nj = num_npi_fil[num_npi_fil['STATE'] == 'NJ']"
   ]
  },
  {
   "cell_type": "code",
   "execution_count": 17,
   "metadata": {
    "collapsed": false
   },
   "outputs": [
    {
     "name": "stdout",
     "output_type": "stream",
     "text": [
      "<class 'pandas.core.frame.DataFrame'>\n",
      "Int64Index: 88872 entries, 25183 to 3404151\n",
      "Data columns (total 7 columns):\n",
      "RPT_REC_NUM             88872 non-null object\n",
      "WKSHT_CD                88872 non-null object\n",
      "LINE_NUM                88872 non-null object\n",
      "CLMN_NUM                88872 non-null object\n",
      "ITM_ALPHNMRC_ITM_TXT    88814 non-null object\n",
      "NPI                     88872 non-null object\n",
      "STATE                   88872 non-null object\n",
      "dtypes: object(7)\n",
      "memory usage: 5.4+ MB\n"
     ]
    }
   ],
   "source": [
    "al_nj.info()"
   ]
  },
  {
   "cell_type": "code",
   "execution_count": 18,
   "metadata": {
    "collapsed": false
   },
   "outputs": [
    {
     "data": {
      "text/plain": [
       "26605.5"
      ]
     },
     "execution_count": 18,
     "metadata": {},
     "output_type": "execute_result"
    }
   ],
   "source": [
    "#STEP 3: Create dataframe with staffing hours for all homes, NJ homes, and our 10 homes\n",
    "\n",
    "#a. number of inpatient days for all residents\n",
    "num_inp = num[num['WKSHT_CD'] == 'S300001']\n",
    "num_inp = num_inp[num_inp['LINE_NUM'] == '00100']\n",
    "num_inp = num_inp[num_inp['CLMN_NUM'] == '00700']\n",
    "num_inp['ITM_VAL_NUM'].median()"
   ]
  },
  {
   "cell_type": "markdown",
   "metadata": {},
   "source": [
    "#### In this section, I filter down the dataframe to look at the total number of hours worked for each type of nurse, then divide that by the number of patients to get the number of hours per patient per day for different types of nursing in the home."
   ]
  },
  {
   "cell_type": "code",
   "execution_count": 19,
   "metadata": {
    "collapsed": false
   },
   "outputs": [],
   "source": [
    "#b. hours for each category of nurses\n",
    "# RN hours for all NHs\n",
    "num_rn = num[num['WKSHT_CD'] == 'S300005']\n",
    "num_rn = num_rn[(num_rn['LINE_NUM'] == '01400') | (num_rn['LINE_NUM'] == '00100') ]\n",
    "num_rn = num_rn[num_rn['CLMN_NUM'] == '00400']\n",
    "num_rn_piv = num_rn.pivot_table(index='RPT_REC_NUM', values='ITM_VAL_NUM', aggfunc=sum)\n",
    "num_rn2 = pd.DataFrame(num_rn_piv)\n",
    "num_rn2 = num_rn2.reset_index()\n",
    "\n",
    "#lpns for all NHs\n",
    "num_lpn = num[num['WKSHT_CD'] == 'S300005']\n",
    "num_lpn = num_lpn[(num_lpn['LINE_NUM'] == '01500') | (num_lpn['LINE_NUM'] == '00200')]\n",
    "num_lpn = num_lpn[num_lpn['CLMN_NUM'] == '00400']\n",
    "num_lpn_piv = num_lpn.pivot_table(index='RPT_REC_NUM', values='ITM_VAL_NUM', aggfunc=sum)\n",
    "num_lpn2 = pd.DataFrame(num_lpn_piv)\n",
    "num_lpn2 = num_lpn2.reset_index()\n",
    "\n",
    "#assistant hours for all NHs\n",
    "num_asst = num[num['WKSHT_CD'] == 'S300005']\n",
    "num_asst = num_asst[(num_asst['LINE_NUM'] == '01600') | (num_asst['LINE_NUM'] == '00300')]\n",
    "num_asst = num_asst[num_asst['CLMN_NUM'] == '00400']\n",
    "num_asst_piv = num_asst.pivot_table(index='RPT_REC_NUM', values='ITM_VAL_NUM', aggfunc=sum)\n",
    "num_asst2 = pd.DataFrame(num_asst_piv)\n",
    "num_asst2 = num_asst2.reset_index()"
   ]
  },
  {
   "cell_type": "code",
   "execution_count": 20,
   "metadata": {
    "collapsed": false
   },
   "outputs": [],
   "source": [
    "#c. calculate staffing hours per inpatient day by dividing two categories\n",
    "# rn hours per patient day: all\n",
    "num_rn_day = num_inp.merge(num_rn2, on='RPT_REC_NUM', suffixes=('_days','_rn'))\n",
    "num_rn_day['rn_hr_per_day'] = num_rn_day['ITM_VAL_NUM_rn'] / num_rn_day['ITM_VAL_NUM_days'] \n",
    "\n",
    "num_lpn_day = num_inp.merge(num_lpn2, on='RPT_REC_NUM', suffixes=('_days', '_lpn'))\n",
    "num_lpn_day['lpn_hr_day'] = num_lpn_day['ITM_VAL_NUM_lpn'] / num_lpn_day['ITM_VAL_NUM_days']\n",
    "\n",
    "#asst hours per patient day: all\n",
    "num_asst_day = num_inp.merge(num_asst2, on='RPT_REC_NUM', suffixes=('_days','_asst'))\n",
    "num_asst_day['asst_hr_per_day'] = num_asst_day['ITM_VAL_NUM_asst'] / num_asst_day['ITM_VAL_NUM_days'] "
   ]
  },
  {
   "cell_type": "code",
   "execution_count": 21,
   "metadata": {
    "collapsed": false
   },
   "outputs": [],
   "source": [
    "#d. merge RN, LPN and Aide datasets into one nice dataframe\n",
    "all_num_hr_day = num_rn_day.merge(num_lpn_day,on='RPT_REC_NUM').merge(num_asst_day,on='RPT_REC_NUM')\n",
    "all_num_hr_day = all_num_hr_day[[u'RPT_REC_NUM', u'ITM_VAL_NUM_days_x', u'ITM_VAL_NUM_rn', u'rn_hr_per_day',\n",
    "       u'ITM_VAL_NUM_lpn', u'lpn_hr_day', u'ITM_VAL_NUM_asst', u'asst_hr_per_day']]\n",
    "all_num_hr_day = all_num_hr_day.rename(columns={'ITM_VAL_NUM_days_x':'inpatient_days', 'ITM_VAL_NUM_rn':'rn_hours', \n",
    "                                               'ITM_VAL_NUM_lpn':'lpn_hours', 'ITM_VAL_NUM_asst':'asst_hours'})"
   ]
  },
  {
   "cell_type": "code",
   "execution_count": 22,
   "metadata": {
    "collapsed": false
   },
   "outputs": [],
   "source": [
    "#a. number of inpatient days for NJ nhs\n",
    "num_inp_nj = num_nj[num_nj['WKSHT_CD'] == 'S300001']\n",
    "num_inp_nj = num_inp_nj[num_inp_nj['LINE_NUM'] == '00100']\n",
    "num_inp_nj = num_inp_nj[num_inp_nj['CLMN_NUM'] == '00700']\n",
    "\n",
    "#b. RN hours for NJ NHs\n",
    "num_rn_nj = num_nj[num_nj['WKSHT_CD'] == 'S300005']\n",
    "num_rn_nj = num_rn_nj[(num_rn_nj['LINE_NUM'] == '01400') | (num_rn_nj['LINE_NUM'] == '00100') ]\n",
    "num_rn_nj = num_rn_nj[num_rn_nj['CLMN_NUM'] == '00400']\n",
    "num_rn_nj_piv = num_rn_nj.pivot_table(index=('RPT_REC_NUM', 'NPI'), values='ITM_VAL_NUM', aggfunc=sum)\n",
    "num_rn_nj2 = pd.DataFrame(num_rn_nj_piv)\n",
    "num_rn_nj2 = num_rn_nj2.reset_index()\n",
    "\n",
    "#b. lpns for NJ NHs\n",
    "num_lpn_nj = num_nj[num_nj['WKSHT_CD'] == 'S300005']\n",
    "num_lpn_nj = num_lpn_nj[(num_lpn_nj['LINE_NUM'] == '01500') | (num_lpn_nj['LINE_NUM'] == '00200')]\n",
    "num_lpn_nj = num_lpn_nj[num_lpn_nj['CLMN_NUM'] == '00400']\n",
    "num_lpn_nj_piv = num_lpn_nj.pivot_table(index='RPT_REC_NUM', values='ITM_VAL_NUM', aggfunc=sum)\n",
    "num_lpn_nj2 = pd.DataFrame(num_lpn_nj_piv)\n",
    "num_lpn_nj2 = num_lpn_nj2.reset_index()\n",
    "\n",
    "\n",
    "#b. assistant hours for NJ NHs\n",
    "num_asst_nj = num_nj[num_nj['WKSHT_CD'] == 'S300005']\n",
    "num_asst_nj = num_asst_nj[(num_asst_nj['LINE_NUM'] == '01600') | (num_asst_nj['LINE_NUM'] == '00300')]\n",
    "num_asst_nj = num_asst_nj[num_asst_nj['CLMN_NUM'] == '00400']\n",
    "num_asst_nj['ITM_VAL_NUM'].median()\n",
    "num_asst_nj_piv = num_asst_nj.pivot_table(index='RPT_REC_NUM', values='ITM_VAL_NUM', aggfunc=sum)\n",
    "num_asst_nj2 = pd.DataFrame(num_asst_nj_piv)\n",
    "num_asst_nj2 = num_asst_nj2.reset_index()"
   ]
  },
  {
   "cell_type": "code",
   "execution_count": 23,
   "metadata": {
    "collapsed": false
   },
   "outputs": [],
   "source": [
    "#c. creating the per-day calculations\n",
    "num_rn_day_nj = num_inp_nj.merge(num_rn_nj2, on='RPT_REC_NUM', suffixes=('_days','_rn'))\n",
    "num_rn_day_nj['rn_hr_per_day'] = num_rn_day_nj['ITM_VAL_NUM_rn'] / num_rn_day_nj['ITM_VAL_NUM_days'] \n",
    "\n",
    "num_lpn_day_nj = num_inp_nj.merge(num_lpn_nj2, on='RPT_REC_NUM', suffixes=('_days', '_lpn'))\n",
    "num_lpn_day_nj['lpn_hr_day'] = num_lpn_day_nj['ITM_VAL_NUM_lpn'] / num_lpn_day_nj['ITM_VAL_NUM_days']\n",
    "\n",
    "num_asst_day_nj = num_inp_nj.merge(num_asst_nj2, on='RPT_REC_NUM', suffixes=('_days','_asst'))\n",
    "num_asst_day_nj['asst_hr_per_day'] = num_asst_day_nj['ITM_VAL_NUM_asst'] / num_asst_day_nj['ITM_VAL_NUM_days'] \n",
    "\n"
   ]
  },
  {
   "cell_type": "code",
   "execution_count": 24,
   "metadata": {
    "collapsed": false
   },
   "outputs": [],
   "source": [
    "#d. putting it all together into one nice file\n",
    "nj_num_hr_day = num_rn_day_nj.merge(num_lpn_day_nj,on='RPT_REC_NUM').merge(num_asst_day_nj,on='RPT_REC_NUM')\n",
    "nj_num_hr_day = nj_num_hr_day[[u'RPT_REC_NUM', u'ITM_VAL_NUM_days_x', u'ITM_VAL_NUM_rn', u'rn_hr_per_day',\n",
    "       u'ITM_VAL_NUM_lpn', u'lpn_hr_day', u'ITM_VAL_NUM_asst', u'asst_hr_per_day', 'NPI_rn']]\n",
    "nj_num_hr_day = nj_num_hr_day.rename(columns={'ITM_VAL_NUM_days_x':'inpatient_days', 'ITM_VAL_NUM_rn':'rn_hours', \n",
    "                                               'ITM_VAL_NUM_lpn':'lpn_hours', 'ITM_VAL_NUM_asst':'asst_hours'})"
   ]
  },
  {
   "cell_type": "code",
   "execution_count": 25,
   "metadata": {
    "collapsed": false
   },
   "outputs": [],
   "source": [
    "nj_num_hr_day['total_hours_per_day'] = (nj_num_hr_day['rn_hours'] + nj_num_hr_day['lpn_hours'] + nj_num_hr_day['asst_hours']) / nj_num_hr_day['inpatient_days']"
   ]
  },
  {
   "cell_type": "code",
   "execution_count": 26,
   "metadata": {
    "collapsed": false
   },
   "outputs": [
    {
     "data": {
      "text/html": [
       "<div>\n",
       "<style scoped>\n",
       "    .dataframe tbody tr th:only-of-type {\n",
       "        vertical-align: middle;\n",
       "    }\n",
       "\n",
       "    .dataframe tbody tr th {\n",
       "        vertical-align: top;\n",
       "    }\n",
       "\n",
       "    .dataframe thead th {\n",
       "        text-align: right;\n",
       "    }\n",
       "</style>\n",
       "<table border=\"1\" class=\"dataframe\">\n",
       "  <thead>\n",
       "    <tr style=\"text-align: right;\">\n",
       "      <th></th>\n",
       "      <th>RPT_REC_NUM</th>\n",
       "      <th>inpatient_days</th>\n",
       "      <th>rn_hours</th>\n",
       "      <th>rn_hr_per_day</th>\n",
       "      <th>lpn_hours</th>\n",
       "      <th>lpn_hr_day</th>\n",
       "      <th>asst_hours</th>\n",
       "      <th>asst_hr_per_day</th>\n",
       "      <th>NPI_rn</th>\n",
       "      <th>total_hours_per_day</th>\n",
       "    </tr>\n",
       "  </thead>\n",
       "  <tbody>\n",
       "    <tr>\n",
       "      <th>0</th>\n",
       "      <td>1174398</td>\n",
       "      <td>4287.0</td>\n",
       "      <td>2593.0</td>\n",
       "      <td>0.604852</td>\n",
       "      <td>4934.0</td>\n",
       "      <td>1.150921</td>\n",
       "      <td>10459.0</td>\n",
       "      <td>2.439701</td>\n",
       "      <td>315480</td>\n",
       "      <td>4.195475</td>\n",
       "    </tr>\n",
       "    <tr>\n",
       "      <th>1</th>\n",
       "      <td>1177778</td>\n",
       "      <td>10408.0</td>\n",
       "      <td>4294.0</td>\n",
       "      <td>0.412567</td>\n",
       "      <td>11445.0</td>\n",
       "      <td>1.099635</td>\n",
       "      <td>23663.0</td>\n",
       "      <td>2.273540</td>\n",
       "      <td>315321</td>\n",
       "      <td>3.785742</td>\n",
       "    </tr>\n",
       "    <tr>\n",
       "      <th>2</th>\n",
       "      <td>1181775</td>\n",
       "      <td>9607.0</td>\n",
       "      <td>13540.0</td>\n",
       "      <td>1.409389</td>\n",
       "      <td>2185.0</td>\n",
       "      <td>0.227438</td>\n",
       "      <td>24349.0</td>\n",
       "      <td>2.534506</td>\n",
       "      <td>315404</td>\n",
       "      <td>4.171333</td>\n",
       "    </tr>\n",
       "    <tr>\n",
       "      <th>3</th>\n",
       "      <td>1181786</td>\n",
       "      <td>23241.0</td>\n",
       "      <td>21451.0</td>\n",
       "      <td>0.922981</td>\n",
       "      <td>12997.0</td>\n",
       "      <td>0.559227</td>\n",
       "      <td>62364.0</td>\n",
       "      <td>2.683361</td>\n",
       "      <td>315331</td>\n",
       "      <td>4.165569</td>\n",
       "    </tr>\n",
       "    <tr>\n",
       "      <th>4</th>\n",
       "      <td>1183357</td>\n",
       "      <td>78561.0</td>\n",
       "      <td>18054.0</td>\n",
       "      <td>0.229809</td>\n",
       "      <td>40766.0</td>\n",
       "      <td>0.518909</td>\n",
       "      <td>173476.0</td>\n",
       "      <td>2.208169</td>\n",
       "      <td>315248</td>\n",
       "      <td>2.956887</td>\n",
       "    </tr>\n",
       "  </tbody>\n",
       "</table>\n",
       "</div>"
      ],
      "text/plain": [
       "  RPT_REC_NUM  inpatient_days  rn_hours  rn_hr_per_day  lpn_hours  lpn_hr_day  \\\n",
       "0     1174398          4287.0    2593.0       0.604852     4934.0    1.150921   \n",
       "1     1177778         10408.0    4294.0       0.412567    11445.0    1.099635   \n",
       "2     1181775          9607.0   13540.0       1.409389     2185.0    0.227438   \n",
       "3     1181786         23241.0   21451.0       0.922981    12997.0    0.559227   \n",
       "4     1183357         78561.0   18054.0       0.229809    40766.0    0.518909   \n",
       "\n",
       "   asst_hours  asst_hr_per_day  NPI_rn  total_hours_per_day  \n",
       "0     10459.0         2.439701  315480             4.195475  \n",
       "1     23663.0         2.273540  315321             3.785742  \n",
       "2     24349.0         2.534506  315404             4.171333  \n",
       "3     62364.0         2.683361  315331             4.165569  \n",
       "4    173476.0         2.208169  315248             2.956887  "
      ]
     },
     "execution_count": 26,
     "metadata": {},
     "output_type": "execute_result"
    }
   ],
   "source": [
    "nj_num_hr_day.head()"
   ]
  },
  {
   "cell_type": "code",
   "execution_count": 27,
   "metadata": {
    "collapsed": false,
    "scrolled": true
   },
   "outputs": [
    {
     "data": {
      "text/html": [
       "<div>\n",
       "<style scoped>\n",
       "    .dataframe tbody tr th:only-of-type {\n",
       "        vertical-align: middle;\n",
       "    }\n",
       "\n",
       "    .dataframe tbody tr th {\n",
       "        vertical-align: top;\n",
       "    }\n",
       "\n",
       "    .dataframe thead th {\n",
       "        text-align: right;\n",
       "    }\n",
       "</style>\n",
       "<table border=\"1\" class=\"dataframe\">\n",
       "  <thead>\n",
       "    <tr style=\"text-align: right;\">\n",
       "      <th></th>\n",
       "      <th>inpatient_days</th>\n",
       "      <th>rn_hours</th>\n",
       "      <th>rn_hr_per_day</th>\n",
       "      <th>lpn_hours</th>\n",
       "      <th>lpn_hr_day</th>\n",
       "      <th>asst_hours</th>\n",
       "      <th>asst_hr_per_day</th>\n",
       "      <th>total_hours_per_day</th>\n",
       "    </tr>\n",
       "  </thead>\n",
       "  <tbody>\n",
       "    <tr>\n",
       "      <th>count</th>\n",
       "      <td>340.000000</td>\n",
       "      <td>340.000000</td>\n",
       "      <td>340.000000</td>\n",
       "      <td>340.000000</td>\n",
       "      <td>340.000000</td>\n",
       "      <td>340.000000</td>\n",
       "      <td>340.000000</td>\n",
       "      <td>340.000000</td>\n",
       "    </tr>\n",
       "    <tr>\n",
       "      <th>mean</th>\n",
       "      <td>42829.385294</td>\n",
       "      <td>32257.684588</td>\n",
       "      <td>0.839244</td>\n",
       "      <td>38069.278941</td>\n",
       "      <td>0.927243</td>\n",
       "      <td>101479.300441</td>\n",
       "      <td>2.464372</td>\n",
       "      <td>4.230858</td>\n",
       "    </tr>\n",
       "    <tr>\n",
       "      <th>std</th>\n",
       "      <td>21858.710849</td>\n",
       "      <td>21169.763684</td>\n",
       "      <td>0.599833</td>\n",
       "      <td>21631.106166</td>\n",
       "      <td>0.405812</td>\n",
       "      <td>54000.708179</td>\n",
       "      <td>0.794018</td>\n",
       "      <td>1.400135</td>\n",
       "    </tr>\n",
       "    <tr>\n",
       "      <th>min</th>\n",
       "      <td>2061.000000</td>\n",
       "      <td>2071.000000</td>\n",
       "      <td>0.119898</td>\n",
       "      <td>668.000000</td>\n",
       "      <td>0.073992</td>\n",
       "      <td>10459.000000</td>\n",
       "      <td>0.681553</td>\n",
       "      <td>2.235762</td>\n",
       "    </tr>\n",
       "    <tr>\n",
       "      <th>25%</th>\n",
       "      <td>30023.750000</td>\n",
       "      <td>16501.000000</td>\n",
       "      <td>0.467506</td>\n",
       "      <td>23378.250000</td>\n",
       "      <td>0.713519</td>\n",
       "      <td>68620.440000</td>\n",
       "      <td>2.092077</td>\n",
       "      <td>3.576881</td>\n",
       "    </tr>\n",
       "    <tr>\n",
       "      <th>50%</th>\n",
       "      <td>39678.500000</td>\n",
       "      <td>27751.000000</td>\n",
       "      <td>0.733998</td>\n",
       "      <td>34786.390000</td>\n",
       "      <td>0.900799</td>\n",
       "      <td>90025.000000</td>\n",
       "      <td>2.311916</td>\n",
       "      <td>3.945270</td>\n",
       "    </tr>\n",
       "    <tr>\n",
       "      <th>75%</th>\n",
       "      <td>54629.000000</td>\n",
       "      <td>42537.250000</td>\n",
       "      <td>1.007164</td>\n",
       "      <td>48331.500000</td>\n",
       "      <td>1.077676</td>\n",
       "      <td>124343.250000</td>\n",
       "      <td>2.617289</td>\n",
       "      <td>4.413987</td>\n",
       "    </tr>\n",
       "    <tr>\n",
       "      <th>max</th>\n",
       "      <td>191948.000000</td>\n",
       "      <td>124861.000000</td>\n",
       "      <td>5.812654</td>\n",
       "      <td>154942.000000</td>\n",
       "      <td>4.271100</td>\n",
       "      <td>371715.000000</td>\n",
       "      <td>10.763886</td>\n",
       "      <td>18.114233</td>\n",
       "    </tr>\n",
       "  </tbody>\n",
       "</table>\n",
       "</div>"
      ],
      "text/plain": [
       "       inpatient_days       rn_hours  rn_hr_per_day      lpn_hours  \\\n",
       "count      340.000000     340.000000     340.000000     340.000000   \n",
       "mean     42829.385294   32257.684588       0.839244   38069.278941   \n",
       "std      21858.710849   21169.763684       0.599833   21631.106166   \n",
       "min       2061.000000    2071.000000       0.119898     668.000000   \n",
       "25%      30023.750000   16501.000000       0.467506   23378.250000   \n",
       "50%      39678.500000   27751.000000       0.733998   34786.390000   \n",
       "75%      54629.000000   42537.250000       1.007164   48331.500000   \n",
       "max     191948.000000  124861.000000       5.812654  154942.000000   \n",
       "\n",
       "       lpn_hr_day     asst_hours  asst_hr_per_day  total_hours_per_day  \n",
       "count  340.000000     340.000000       340.000000           340.000000  \n",
       "mean     0.927243  101479.300441         2.464372             4.230858  \n",
       "std      0.405812   54000.708179         0.794018             1.400135  \n",
       "min      0.073992   10459.000000         0.681553             2.235762  \n",
       "25%      0.713519   68620.440000         2.092077             3.576881  \n",
       "50%      0.900799   90025.000000         2.311916             3.945270  \n",
       "75%      1.077676  124343.250000         2.617289             4.413987  \n",
       "max      4.271100  371715.000000        10.763886            18.114233  "
      ]
     },
     "execution_count": 27,
     "metadata": {},
     "output_type": "execute_result"
    }
   ],
   "source": [
    "nj_num_hr_day.describe()"
   ]
  },
  {
   "cell_type": "code",
   "execution_count": 28,
   "metadata": {
    "collapsed": false,
    "scrolled": true
   },
   "outputs": [
    {
     "name": "stdout",
     "output_type": "stream",
     "text": [
      "0.753167115678\n",
      "0.888858868269\n",
      "2.3693849385\n"
     ]
    }
   ],
   "source": [
    "#mean hours per day for new jersey\n",
    "print nj_num_hr_day['rn_hours'].sum() / nj_num_hr_day['inpatient_days'].sum()\n",
    "print nj_num_hr_day['lpn_hours'].sum() / nj_num_hr_day['inpatient_days'].sum()\n",
    "print nj_num_hr_day['asst_hours'].sum() / nj_num_hr_day['inpatient_days'].sum()"
   ]
  },
  {
   "cell_type": "code",
   "execution_count": 29,
   "metadata": {
    "collapsed": false
   },
   "outputs": [
    {
     "name": "stdout",
     "output_type": "stream",
     "text": [
      "0.733997691212\n",
      "0.900798868701\n",
      "2.31191567856\n",
      "3.94526958475\n"
     ]
    }
   ],
   "source": [
    "#median hours per day for NJ\n",
    "print nj_num_hr_day['rn_hr_per_day'].median()\n",
    "print nj_num_hr_day['lpn_hr_day'].median()\n",
    "print nj_num_hr_day['asst_hr_per_day'].median()\n",
    "print nj_num_hr_day['total_hours_per_day'].median()"
   ]
  },
  {
   "cell_type": "code",
   "execution_count": 30,
   "metadata": {
    "collapsed": true
   },
   "outputs": [],
   "source": [
    "nj_num_hr_day['tot_hours'] = nj_num_hr_day['rn_hours'] + nj_num_hr_day['lpn_hours'] + nj_num_hr_day['asst_hours']"
   ]
  },
  {
   "cell_type": "code",
   "execution_count": 31,
   "metadata": {
    "collapsed": false,
    "scrolled": true
   },
   "outputs": [
    {
     "data": {
      "text/html": [
       "<div>\n",
       "<style scoped>\n",
       "    .dataframe tbody tr th:only-of-type {\n",
       "        vertical-align: middle;\n",
       "    }\n",
       "\n",
       "    .dataframe tbody tr th {\n",
       "        vertical-align: top;\n",
       "    }\n",
       "\n",
       "    .dataframe thead th {\n",
       "        text-align: right;\n",
       "    }\n",
       "</style>\n",
       "<table border=\"1\" class=\"dataframe\">\n",
       "  <thead>\n",
       "    <tr style=\"text-align: right;\">\n",
       "      <th></th>\n",
       "      <th>inpatient_days</th>\n",
       "      <th>rn_hours</th>\n",
       "      <th>rn_hr_per_day</th>\n",
       "      <th>lpn_hours</th>\n",
       "      <th>lpn_hr_day</th>\n",
       "      <th>asst_hours</th>\n",
       "      <th>asst_hr_per_day</th>\n",
       "      <th>total_hours_per_day</th>\n",
       "      <th>tot_hours</th>\n",
       "    </tr>\n",
       "  </thead>\n",
       "  <tbody>\n",
       "    <tr>\n",
       "      <th>inpatient_days</th>\n",
       "      <td>1.000000</td>\n",
       "      <td>0.556070</td>\n",
       "      <td>-0.282001</td>\n",
       "      <td>0.730581</td>\n",
       "      <td>-0.185877</td>\n",
       "      <td>0.884441</td>\n",
       "      <td>-0.235087</td>\n",
       "      <td>-0.308005</td>\n",
       "      <td>0.900233</td>\n",
       "    </tr>\n",
       "    <tr>\n",
       "      <th>rn_hours</th>\n",
       "      <td>0.556070</td>\n",
       "      <td>1.000000</td>\n",
       "      <td>0.401868</td>\n",
       "      <td>0.352212</td>\n",
       "      <td>-0.108225</td>\n",
       "      <td>0.563748</td>\n",
       "      <td>0.014005</td>\n",
       "      <td>0.148739</td>\n",
       "      <td>0.707793</td>\n",
       "    </tr>\n",
       "    <tr>\n",
       "      <th>rn_hr_per_day</th>\n",
       "      <td>-0.282001</td>\n",
       "      <td>0.401868</td>\n",
       "      <td>1.000000</td>\n",
       "      <td>-0.229244</td>\n",
       "      <td>0.200292</td>\n",
       "      <td>-0.168324</td>\n",
       "      <td>0.445428</td>\n",
       "      <td>0.739066</td>\n",
       "      <td>-0.066213</td>\n",
       "    </tr>\n",
       "    <tr>\n",
       "      <th>lpn_hours</th>\n",
       "      <td>0.730581</td>\n",
       "      <td>0.352212</td>\n",
       "      <td>-0.229244</td>\n",
       "      <td>1.000000</td>\n",
       "      <td>0.416359</td>\n",
       "      <td>0.667519</td>\n",
       "      <td>-0.072618</td>\n",
       "      <td>-0.018716</td>\n",
       "      <td>0.778326</td>\n",
       "    </tr>\n",
       "    <tr>\n",
       "      <th>lpn_hr_day</th>\n",
       "      <td>-0.185877</td>\n",
       "      <td>-0.108225</td>\n",
       "      <td>0.200292</td>\n",
       "      <td>0.416359</td>\n",
       "      <td>1.000000</td>\n",
       "      <td>-0.069692</td>\n",
       "      <td>0.440106</td>\n",
       "      <td>0.625230</td>\n",
       "      <td>0.035273</td>\n",
       "    </tr>\n",
       "    <tr>\n",
       "      <th>asst_hours</th>\n",
       "      <td>0.884441</td>\n",
       "      <td>0.563748</td>\n",
       "      <td>-0.168324</td>\n",
       "      <td>0.667519</td>\n",
       "      <td>-0.069692</td>\n",
       "      <td>1.000000</td>\n",
       "      <td>0.161203</td>\n",
       "      <td>-0.000893</td>\n",
       "      <td>0.960444</td>\n",
       "    </tr>\n",
       "    <tr>\n",
       "      <th>asst_hr_per_day</th>\n",
       "      <td>-0.235087</td>\n",
       "      <td>0.014005</td>\n",
       "      <td>0.445428</td>\n",
       "      <td>-0.072618</td>\n",
       "      <td>0.440106</td>\n",
       "      <td>0.161203</td>\n",
       "      <td>1.000000</td>\n",
       "      <td>0.885487</td>\n",
       "      <td>0.088795</td>\n",
       "    </tr>\n",
       "    <tr>\n",
       "      <th>total_hours_per_day</th>\n",
       "      <td>-0.308005</td>\n",
       "      <td>0.148739</td>\n",
       "      <td>0.739066</td>\n",
       "      <td>-0.018716</td>\n",
       "      <td>0.625230</td>\n",
       "      <td>-0.000893</td>\n",
       "      <td>0.885487</td>\n",
       "      <td>1.000000</td>\n",
       "      <td>0.032213</td>\n",
       "    </tr>\n",
       "    <tr>\n",
       "      <th>tot_hours</th>\n",
       "      <td>0.900233</td>\n",
       "      <td>0.707793</td>\n",
       "      <td>-0.066213</td>\n",
       "      <td>0.778326</td>\n",
       "      <td>0.035273</td>\n",
       "      <td>0.960444</td>\n",
       "      <td>0.088795</td>\n",
       "      <td>0.032213</td>\n",
       "      <td>1.000000</td>\n",
       "    </tr>\n",
       "  </tbody>\n",
       "</table>\n",
       "</div>"
      ],
      "text/plain": [
       "                     inpatient_days  rn_hours  rn_hr_per_day  lpn_hours  \\\n",
       "inpatient_days             1.000000  0.556070      -0.282001   0.730581   \n",
       "rn_hours                   0.556070  1.000000       0.401868   0.352212   \n",
       "rn_hr_per_day             -0.282001  0.401868       1.000000  -0.229244   \n",
       "lpn_hours                  0.730581  0.352212      -0.229244   1.000000   \n",
       "lpn_hr_day                -0.185877 -0.108225       0.200292   0.416359   \n",
       "asst_hours                 0.884441  0.563748      -0.168324   0.667519   \n",
       "asst_hr_per_day           -0.235087  0.014005       0.445428  -0.072618   \n",
       "total_hours_per_day       -0.308005  0.148739       0.739066  -0.018716   \n",
       "tot_hours                  0.900233  0.707793      -0.066213   0.778326   \n",
       "\n",
       "                     lpn_hr_day  asst_hours  asst_hr_per_day  \\\n",
       "inpatient_days        -0.185877    0.884441        -0.235087   \n",
       "rn_hours              -0.108225    0.563748         0.014005   \n",
       "rn_hr_per_day          0.200292   -0.168324         0.445428   \n",
       "lpn_hours              0.416359    0.667519        -0.072618   \n",
       "lpn_hr_day             1.000000   -0.069692         0.440106   \n",
       "asst_hours            -0.069692    1.000000         0.161203   \n",
       "asst_hr_per_day        0.440106    0.161203         1.000000   \n",
       "total_hours_per_day    0.625230   -0.000893         0.885487   \n",
       "tot_hours              0.035273    0.960444         0.088795   \n",
       "\n",
       "                     total_hours_per_day  tot_hours  \n",
       "inpatient_days                 -0.308005   0.900233  \n",
       "rn_hours                        0.148739   0.707793  \n",
       "rn_hr_per_day                   0.739066  -0.066213  \n",
       "lpn_hours                      -0.018716   0.778326  \n",
       "lpn_hr_day                      0.625230   0.035273  \n",
       "asst_hours                     -0.000893   0.960444  \n",
       "asst_hr_per_day                 0.885487   0.088795  \n",
       "total_hours_per_day             1.000000   0.032213  \n",
       "tot_hours                       0.032213   1.000000  "
      ]
     },
     "execution_count": 31,
     "metadata": {},
     "output_type": "execute_result"
    }
   ],
   "source": [
    "nj_num_hr_day.corr()"
   ]
  },
  {
   "cell_type": "code",
   "execution_count": 32,
   "metadata": {
    "collapsed": false
   },
   "outputs": [
    {
     "data": {
      "text/html": [
       "<div>\n",
       "<style scoped>\n",
       "    .dataframe tbody tr th:only-of-type {\n",
       "        vertical-align: middle;\n",
       "    }\n",
       "\n",
       "    .dataframe tbody tr th {\n",
       "        vertical-align: top;\n",
       "    }\n",
       "\n",
       "    .dataframe thead th {\n",
       "        text-align: right;\n",
       "    }\n",
       "</style>\n",
       "<table border=\"1\" class=\"dataframe\">\n",
       "  <thead>\n",
       "    <tr style=\"text-align: right;\">\n",
       "      <th></th>\n",
       "      <th>inpatient_days</th>\n",
       "      <th>rn_hours</th>\n",
       "      <th>rn_hr_per_day</th>\n",
       "      <th>lpn_hours</th>\n",
       "      <th>lpn_hr_day</th>\n",
       "      <th>asst_hours</th>\n",
       "      <th>asst_hr_per_day</th>\n",
       "      <th>total_hours_per_day</th>\n",
       "      <th>tot_hours</th>\n",
       "    </tr>\n",
       "  </thead>\n",
       "  <tbody>\n",
       "    <tr>\n",
       "      <th>count</th>\n",
       "      <td>340.000000</td>\n",
       "      <td>340.000000</td>\n",
       "      <td>340.000000</td>\n",
       "      <td>340.000000</td>\n",
       "      <td>340.000000</td>\n",
       "      <td>340.000000</td>\n",
       "      <td>340.000000</td>\n",
       "      <td>340.000000</td>\n",
       "      <td>340.000000</td>\n",
       "    </tr>\n",
       "    <tr>\n",
       "      <th>mean</th>\n",
       "      <td>42829.385294</td>\n",
       "      <td>32257.684588</td>\n",
       "      <td>0.839244</td>\n",
       "      <td>38069.278941</td>\n",
       "      <td>0.927243</td>\n",
       "      <td>101479.300441</td>\n",
       "      <td>2.464372</td>\n",
       "      <td>4.230858</td>\n",
       "      <td>171806.263971</td>\n",
       "    </tr>\n",
       "    <tr>\n",
       "      <th>std</th>\n",
       "      <td>21858.710849</td>\n",
       "      <td>21169.763684</td>\n",
       "      <td>0.599833</td>\n",
       "      <td>21631.106166</td>\n",
       "      <td>0.405812</td>\n",
       "      <td>54000.708179</td>\n",
       "      <td>0.794018</td>\n",
       "      <td>1.400135</td>\n",
       "      <td>83684.518944</td>\n",
       "    </tr>\n",
       "    <tr>\n",
       "      <th>min</th>\n",
       "      <td>2061.000000</td>\n",
       "      <td>2071.000000</td>\n",
       "      <td>0.119898</td>\n",
       "      <td>668.000000</td>\n",
       "      <td>0.073992</td>\n",
       "      <td>10459.000000</td>\n",
       "      <td>0.681553</td>\n",
       "      <td>2.235762</td>\n",
       "      <td>17986.000000</td>\n",
       "    </tr>\n",
       "    <tr>\n",
       "      <th>25%</th>\n",
       "      <td>30023.750000</td>\n",
       "      <td>16501.000000</td>\n",
       "      <td>0.467506</td>\n",
       "      <td>23378.250000</td>\n",
       "      <td>0.713519</td>\n",
       "      <td>68620.440000</td>\n",
       "      <td>2.092077</td>\n",
       "      <td>3.576881</td>\n",
       "      <td>116688.750000</td>\n",
       "    </tr>\n",
       "    <tr>\n",
       "      <th>50%</th>\n",
       "      <td>39678.500000</td>\n",
       "      <td>27751.000000</td>\n",
       "      <td>0.733998</td>\n",
       "      <td>34786.390000</td>\n",
       "      <td>0.900799</td>\n",
       "      <td>90025.000000</td>\n",
       "      <td>2.311916</td>\n",
       "      <td>3.945270</td>\n",
       "      <td>155961.935000</td>\n",
       "    </tr>\n",
       "    <tr>\n",
       "      <th>75%</th>\n",
       "      <td>54629.000000</td>\n",
       "      <td>42537.250000</td>\n",
       "      <td>1.007164</td>\n",
       "      <td>48331.500000</td>\n",
       "      <td>1.077676</td>\n",
       "      <td>124343.250000</td>\n",
       "      <td>2.617289</td>\n",
       "      <td>4.413987</td>\n",
       "      <td>211547.500000</td>\n",
       "    </tr>\n",
       "    <tr>\n",
       "      <th>max</th>\n",
       "      <td>191948.000000</td>\n",
       "      <td>124861.000000</td>\n",
       "      <td>5.812654</td>\n",
       "      <td>154942.000000</td>\n",
       "      <td>4.271100</td>\n",
       "      <td>371715.000000</td>\n",
       "      <td>10.763886</td>\n",
       "      <td>18.114233</td>\n",
       "      <td>617708.000000</td>\n",
       "    </tr>\n",
       "  </tbody>\n",
       "</table>\n",
       "</div>"
      ],
      "text/plain": [
       "       inpatient_days       rn_hours  rn_hr_per_day      lpn_hours  \\\n",
       "count      340.000000     340.000000     340.000000     340.000000   \n",
       "mean     42829.385294   32257.684588       0.839244   38069.278941   \n",
       "std      21858.710849   21169.763684       0.599833   21631.106166   \n",
       "min       2061.000000    2071.000000       0.119898     668.000000   \n",
       "25%      30023.750000   16501.000000       0.467506   23378.250000   \n",
       "50%      39678.500000   27751.000000       0.733998   34786.390000   \n",
       "75%      54629.000000   42537.250000       1.007164   48331.500000   \n",
       "max     191948.000000  124861.000000       5.812654  154942.000000   \n",
       "\n",
       "       lpn_hr_day     asst_hours  asst_hr_per_day  total_hours_per_day  \\\n",
       "count  340.000000     340.000000       340.000000           340.000000   \n",
       "mean     0.927243  101479.300441         2.464372             4.230858   \n",
       "std      0.405812   54000.708179         0.794018             1.400135   \n",
       "min      0.073992   10459.000000         0.681553             2.235762   \n",
       "25%      0.713519   68620.440000         2.092077             3.576881   \n",
       "50%      0.900799   90025.000000         2.311916             3.945270   \n",
       "75%      1.077676  124343.250000         2.617289             4.413987   \n",
       "max      4.271100  371715.000000        10.763886            18.114233   \n",
       "\n",
       "           tot_hours  \n",
       "count     340.000000  \n",
       "mean   171806.263971  \n",
       "std     83684.518944  \n",
       "min     17986.000000  \n",
       "25%    116688.750000  \n",
       "50%    155961.935000  \n",
       "75%    211547.500000  \n",
       "max    617708.000000  "
      ]
     },
     "execution_count": 32,
     "metadata": {},
     "output_type": "execute_result"
    }
   ],
   "source": [
    "nj_num_hr_day.describe()"
   ]
  },
  {
   "cell_type": "code",
   "execution_count": 33,
   "metadata": {
    "collapsed": true
   },
   "outputs": [],
   "source": [
    "#f. the actual rank of each nursing home in terms of each category\n",
    "nj_num_hr_day['CMS_RN_rank'] = nj_num_hr_day['rn_hr_per_day'].rank(ascending=False)\n",
    "nj_num_hr_day['CMS_LPN_rank'] = nj_num_hr_day['lpn_hr_day'].rank(ascending=False)\n",
    "nj_num_hr_day['CMS_aide_rank'] = nj_num_hr_day['asst_hr_per_day'].rank(ascending=False)\n",
    "nj_num_hr_day['CMS_tot_rank'] = nj_num_hr_day['total_hours_per_day'].rank(ascending=False)\n",
    "\n",
    "#f. the percentile rank of each nursing home in terms of each category\n",
    "nj_num_hr_day['CMS_RN_rankpct'] = nj_num_hr_day['rn_hr_per_day'].rank(pct=True, ascending=False)\n",
    "nj_num_hr_day['CMS_LPN_rankpct'] = nj_num_hr_day['lpn_hr_day'].rank( pct=True, ascending=False)\n",
    "nj_num_hr_day['CMS_aide_rankpct'] = nj_num_hr_day['asst_hr_per_day'].rank(pct=True, ascending=False)\n",
    "nj_num_hr_day['CMS_tot_rankpct'] = nj_num_hr_day['total_hours_per_day'].rank(pct=True, ascending=False)"
   ]
  },
  {
   "cell_type": "markdown",
   "metadata": {},
   "source": [
    "## Part 2: Adding CMS Nursing Home Compare data"
   ]
  },
  {
   "cell_type": "markdown",
   "metadata": {},
   "source": [
    "The CMS Nursing Home Compare datasets give information about the quality of each nursing home and rates those homes on a 5-star scale. [Link](https://data.medicare.gov/data/nursing-home-compare)\n",
    "\n",
    "These are updated on a rolling basis, but I used yearly averages when available."
   ]
  },
  {
   "cell_type": "code",
   "execution_count": 34,
   "metadata": {
    "collapsed": false
   },
   "outputs": [],
   "source": [
    "#basic info about name, address, etc. of each home\n",
    "\n",
    "provider_all = pd.read_csv('July_2019_project/Provider_Info.csv')"
   ]
  },
  {
   "cell_type": "code",
   "execution_count": 35,
   "metadata": {
    "collapsed": false
   },
   "outputs": [],
   "source": [
    "provider_nj = provider_all[provider_all['Provider State'] == 'NJ'] "
   ]
  },
  {
   "cell_type": "code",
   "execution_count": 36,
   "metadata": {
    "collapsed": false
   },
   "outputs": [
    {
     "data": {
      "text/plain": [
       "(364, 85)"
      ]
     },
     "execution_count": 36,
     "metadata": {},
     "output_type": "execute_result"
    }
   ],
   "source": [
    "provider_nj.shape"
   ]
  },
  {
   "cell_type": "code",
   "execution_count": 37,
   "metadata": {
    "collapsed": false
   },
   "outputs": [],
   "source": [
    "#b. merging with CMS staffing data\n",
    "st_cms = provider_nj.merge(nj_num_hr_day, left_on='Federal Provider Number', right_on='NPI_rn', how='left')"
   ]
  },
  {
   "cell_type": "code",
   "execution_count": 38,
   "metadata": {
    "collapsed": false
   },
   "outputs": [
    {
     "data": {
      "text/plain": [
       "Index([u'Federal Provider Number', u'Provider Name', u'Provider Address',\n",
       "       u'Provider City', u'Provider State', u'Provider Zip Code',\n",
       "       u'Provider Phone Number', u'Provider SSA County Code',\n",
       "       u'Provider County Name', u'Ownership Type',\n",
       "       ...\n",
       "       u'total_hours_per_day', u'tot_hours', u'CMS_RN_rank', u'CMS_LPN_rank',\n",
       "       u'CMS_aide_rank', u'CMS_tot_rank', u'CMS_RN_rankpct',\n",
       "       u'CMS_LPN_rankpct', u'CMS_aide_rankpct', u'CMS_tot_rankpct'],\n",
       "      dtype='object', length=104)"
      ]
     },
     "execution_count": 38,
     "metadata": {},
     "output_type": "execute_result"
    }
   ],
   "source": [
    "st_cms.columns"
   ]
  },
  {
   "cell_type": "code",
   "execution_count": 39,
   "metadata": {
    "collapsed": false
   },
   "outputs": [
    {
     "data": {
      "text/html": [
       "<div>\n",
       "<style scoped>\n",
       "    .dataframe tbody tr th:only-of-type {\n",
       "        vertical-align: middle;\n",
       "    }\n",
       "\n",
       "    .dataframe tbody tr th {\n",
       "        vertical-align: top;\n",
       "    }\n",
       "\n",
       "    .dataframe thead th {\n",
       "        text-align: right;\n",
       "    }\n",
       "</style>\n",
       "<table border=\"1\" class=\"dataframe\">\n",
       "  <thead>\n",
       "    <tr style=\"text-align: right;\">\n",
       "      <th></th>\n",
       "      <th>Federal Provider Number</th>\n",
       "      <th>Provider Name</th>\n",
       "      <th>Provider Address</th>\n",
       "      <th>Provider City</th>\n",
       "      <th>Provider State</th>\n",
       "      <th>Provider Zip Code</th>\n",
       "      <th>Provider Phone Number</th>\n",
       "      <th>Provider SSA County Code</th>\n",
       "      <th>Provider County Name</th>\n",
       "      <th>Ownership Type</th>\n",
       "      <th>...</th>\n",
       "      <th>total_hours_per_day</th>\n",
       "      <th>tot_hours</th>\n",
       "      <th>CMS_RN_rank</th>\n",
       "      <th>CMS_LPN_rank</th>\n",
       "      <th>CMS_aide_rank</th>\n",
       "      <th>CMS_tot_rank</th>\n",
       "      <th>CMS_RN_rankpct</th>\n",
       "      <th>CMS_LPN_rankpct</th>\n",
       "      <th>CMS_aide_rankpct</th>\n",
       "      <th>CMS_tot_rankpct</th>\n",
       "    </tr>\n",
       "  </thead>\n",
       "  <tbody>\n",
       "    <tr>\n",
       "      <th>0</th>\n",
       "      <td>315002</td>\n",
       "      <td>CARE ONE AT SOMERSET VALLEY</td>\n",
       "      <td>1621 ROUTE 22 WEST</td>\n",
       "      <td>BOUND BROOK</td>\n",
       "      <td>NJ</td>\n",
       "      <td>8805</td>\n",
       "      <td>7324692000</td>\n",
       "      <td>350</td>\n",
       "      <td>Somerset</td>\n",
       "      <td>For profit - Corporation</td>\n",
       "      <td>...</td>\n",
       "      <td>4.856506</td>\n",
       "      <td>96965.00</td>\n",
       "      <td>23.0</td>\n",
       "      <td>221.0</td>\n",
       "      <td>115.0</td>\n",
       "      <td>55.0</td>\n",
       "      <td>0.067647</td>\n",
       "      <td>0.650000</td>\n",
       "      <td>0.338235</td>\n",
       "      <td>0.161765</td>\n",
       "    </tr>\n",
       "    <tr>\n",
       "      <th>1</th>\n",
       "      <td>315008</td>\n",
       "      <td>LAUREL MANOR HEALTHCARE AND REHABILITATION CENTER</td>\n",
       "      <td>18 W LAUREL ROAD</td>\n",
       "      <td>STRATFORD</td>\n",
       "      <td>NJ</td>\n",
       "      <td>8084</td>\n",
       "      <td>8567842400</td>\n",
       "      <td>160</td>\n",
       "      <td>Camden</td>\n",
       "      <td>For profit - Partnership</td>\n",
       "      <td>...</td>\n",
       "      <td>3.377357</td>\n",
       "      <td>105664.00</td>\n",
       "      <td>297.0</td>\n",
       "      <td>93.0</td>\n",
       "      <td>293.0</td>\n",
       "      <td>285.0</td>\n",
       "      <td>0.873529</td>\n",
       "      <td>0.273529</td>\n",
       "      <td>0.861765</td>\n",
       "      <td>0.838235</td>\n",
       "    </tr>\n",
       "    <tr>\n",
       "      <th>2</th>\n",
       "      <td>315015</td>\n",
       "      <td>MADISON CENTER</td>\n",
       "      <td>625 STATE HIGHWAY 34</td>\n",
       "      <td>MATAWAN</td>\n",
       "      <td>NJ</td>\n",
       "      <td>7747</td>\n",
       "      <td>7325666400</td>\n",
       "      <td>290</td>\n",
       "      <td>Monmouth</td>\n",
       "      <td>For profit - Corporation</td>\n",
       "      <td>...</td>\n",
       "      <td>4.024121</td>\n",
       "      <td>207757.34</td>\n",
       "      <td>90.0</td>\n",
       "      <td>161.0</td>\n",
       "      <td>249.0</td>\n",
       "      <td>158.0</td>\n",
       "      <td>0.264706</td>\n",
       "      <td>0.473529</td>\n",
       "      <td>0.732353</td>\n",
       "      <td>0.464706</td>\n",
       "    </tr>\n",
       "    <tr>\n",
       "      <th>3</th>\n",
       "      <td>315057</td>\n",
       "      <td>MERRY HEART NURSING HOME</td>\n",
       "      <td>200 RT 10 WEST</td>\n",
       "      <td>SUCCASUNNA</td>\n",
       "      <td>NJ</td>\n",
       "      <td>7876</td>\n",
       "      <td>9735844000</td>\n",
       "      <td>300</td>\n",
       "      <td>Morris</td>\n",
       "      <td>For profit - Partnership</td>\n",
       "      <td>...</td>\n",
       "      <td>4.613132</td>\n",
       "      <td>167286.00</td>\n",
       "      <td>65.0</td>\n",
       "      <td>255.0</td>\n",
       "      <td>59.0</td>\n",
       "      <td>64.0</td>\n",
       "      <td>0.191176</td>\n",
       "      <td>0.750000</td>\n",
       "      <td>0.173529</td>\n",
       "      <td>0.188235</td>\n",
       "    </tr>\n",
       "    <tr>\n",
       "      <th>4</th>\n",
       "      <td>315087</td>\n",
       "      <td>CARE ONE AT KING JAMES</td>\n",
       "      <td>1040 ROUTE 36</td>\n",
       "      <td>ATLANTIC HIGHLANDS</td>\n",
       "      <td>NJ</td>\n",
       "      <td>7716</td>\n",
       "      <td>7322913400</td>\n",
       "      <td>290</td>\n",
       "      <td>Monmouth</td>\n",
       "      <td>For profit - Corporation</td>\n",
       "      <td>...</td>\n",
       "      <td>4.303234</td>\n",
       "      <td>134248.00</td>\n",
       "      <td>191.0</td>\n",
       "      <td>115.0</td>\n",
       "      <td>77.0</td>\n",
       "      <td>107.0</td>\n",
       "      <td>0.561765</td>\n",
       "      <td>0.338235</td>\n",
       "      <td>0.226471</td>\n",
       "      <td>0.314706</td>\n",
       "    </tr>\n",
       "  </tbody>\n",
       "</table>\n",
       "<p>5 rows × 104 columns</p>\n",
       "</div>"
      ],
      "text/plain": [
       "  Federal Provider Number                                      Provider Name  \\\n",
       "0                  315002                        CARE ONE AT SOMERSET VALLEY   \n",
       "1                  315008  LAUREL MANOR HEALTHCARE AND REHABILITATION CENTER   \n",
       "2                  315015                                     MADISON CENTER   \n",
       "3                  315057                           MERRY HEART NURSING HOME   \n",
       "4                  315087                             CARE ONE AT KING JAMES   \n",
       "\n",
       "       Provider Address       Provider City Provider State  Provider Zip Code  \\\n",
       "0    1621 ROUTE 22 WEST         BOUND BROOK             NJ               8805   \n",
       "1      18 W LAUREL ROAD           STRATFORD             NJ               8084   \n",
       "2  625 STATE HIGHWAY 34             MATAWAN             NJ               7747   \n",
       "3        200 RT 10 WEST          SUCCASUNNA             NJ               7876   \n",
       "4         1040 ROUTE 36  ATLANTIC HIGHLANDS             NJ               7716   \n",
       "\n",
       "   Provider Phone Number  Provider SSA County Code Provider County Name  \\\n",
       "0             7324692000                       350             Somerset   \n",
       "1             8567842400                       160               Camden   \n",
       "2             7325666400                       290             Monmouth   \n",
       "3             9735844000                       300               Morris   \n",
       "4             7322913400                       290             Monmouth   \n",
       "\n",
       "             Ownership Type  ...  total_hours_per_day  tot_hours CMS_RN_rank  \\\n",
       "0  For profit - Corporation  ...             4.856506   96965.00        23.0   \n",
       "1  For profit - Partnership  ...             3.377357  105664.00       297.0   \n",
       "2  For profit - Corporation  ...             4.024121  207757.34        90.0   \n",
       "3  For profit - Partnership  ...             4.613132  167286.00        65.0   \n",
       "4  For profit - Corporation  ...             4.303234  134248.00       191.0   \n",
       "\n",
       "   CMS_LPN_rank CMS_aide_rank CMS_tot_rank  CMS_RN_rankpct  CMS_LPN_rankpct  \\\n",
       "0         221.0         115.0         55.0        0.067647         0.650000   \n",
       "1          93.0         293.0        285.0        0.873529         0.273529   \n",
       "2         161.0         249.0        158.0        0.264706         0.473529   \n",
       "3         255.0          59.0         64.0        0.191176         0.750000   \n",
       "4         115.0          77.0        107.0        0.561765         0.338235   \n",
       "\n",
       "   CMS_aide_rankpct  CMS_tot_rankpct  \n",
       "0          0.338235         0.161765  \n",
       "1          0.861765         0.838235  \n",
       "2          0.732353         0.464706  \n",
       "3          0.173529         0.188235  \n",
       "4          0.226471         0.314706  \n",
       "\n",
       "[5 rows x 104 columns]"
      ]
     },
     "execution_count": 39,
     "metadata": {},
     "output_type": "execute_result"
    }
   ],
   "source": [
    "st_cms.head()"
   ]
  },
  {
   "cell_type": "code",
   "execution_count": 40,
   "metadata": {
    "collapsed": false
   },
   "outputs": [],
   "source": [
    "#getting geographic data for each for the map\n",
    "st_cms['Latlong'] = st_cms.Location.str.split(\"(\", \n",
    "                                                            expand=True)[1].fillna(0)\n",
    "\n",
    "st_cms['lat'] = st_cms['Latlong'].str.split(',', expand=True)[0]\n",
    "\n",
    "st_cms['long'] = st_cms['Latlong'].str.split(',', expand=True)[1].str[:-1]\n",
    "\n"
   ]
  },
  {
   "cell_type": "code",
   "execution_count": 41,
   "metadata": {
    "collapsed": false
   },
   "outputs": [
    {
     "data": {
      "text/plain": [
       "Index([u'Federal Provider Number', u'Provider Name', u'Provider Address',\n",
       "       u'Provider City', u'Provider State', u'Provider Zip Code',\n",
       "       u'Provider Phone Number', u'Provider SSA County Code',\n",
       "       u'Provider County Name', u'Ownership Type'],\n",
       "      dtype='object')"
      ]
     },
     "execution_count": 41,
     "metadata": {},
     "output_type": "execute_result"
    }
   ],
   "source": [
    "st_cms.columns[0:10]"
   ]
  },
  {
   "cell_type": "code",
   "execution_count": 42,
   "metadata": {
    "collapsed": false
   },
   "outputs": [],
   "source": [
    "# CMS NHC \"Quality\" measures for different metrics, like \"how many times were patients restrained?\"\n",
    "\n",
    "quality = pd.read_csv('July_2019_project/MDS_Quality_Measures_2019.csv')"
   ]
  },
  {
   "cell_type": "code",
   "execution_count": 43,
   "metadata": {
    "collapsed": false
   },
   "outputs": [
    {
     "data": {
      "text/plain": [
       "Index([u'Federal Provider Number', u'Provider Name', u'Provider Address',\n",
       "       u'Provider City', u'Provider State', u'Provider Zip Code',\n",
       "       u'Measure Code', u'Measure Description', u'Resident type',\n",
       "       u'Q1 Measure Score', u'Footnote for Q1 Measure Score',\n",
       "       u'Q2 Measure Score', u'Footnote for Q2 Measure Score',\n",
       "       u'Q3 Measure Score', u'Footnote for Q3 Measure Score',\n",
       "       u'Q4 Measure Score', u'Footnote for Q4 Measure Score',\n",
       "       u'Four Quarter Average Score', u'Footnote for Four Quarter Average',\n",
       "       u'Used in Quality Measure Five Star Rating', u'Measure Period',\n",
       "       u'Location', u'Processing Date'],\n",
       "      dtype='object')"
      ]
     },
     "execution_count": 43,
     "metadata": {},
     "output_type": "execute_result"
    }
   ],
   "source": [
    "quality.columns"
   ]
  },
  {
   "cell_type": "code",
   "execution_count": 44,
   "metadata": {
    "collapsed": false
   },
   "outputs": [
    {
     "data": {
      "text/plain": [
       "array(['Percentage of short-stay residents who made improvements in function',\n",
       "       'Percentage of long-stay residents who lose too much weight',\n",
       "       'Percentage of short-stay residents who newly received an antipsychotic medication',\n",
       "       'Percentage of long-stay residents who have depressive symptoms',\n",
       "       'Percentage of long-stay residents who received an antianxiety or hypnotic medication',\n",
       "       'Percentage of short-stay residents assessed and appropriately given the pneumococcal vaccine',\n",
       "       'Percentage of long-stay residents who self-report moderate to severe pain',\n",
       "       'Percentage of long-stay residents experiencing one or more falls with major injury',\n",
       "       'Percentage of long-stay residents whose ability to move independently worsened',\n",
       "       'Percentage of high risk long-stay residents with pressure ulcers',\n",
       "       'Percentage of short-stay residents who self-report moderate to severe pain',\n",
       "       'Percentage of long-stay residents whose need for help with daily activities has increased',\n",
       "       'Percentage of long-stay residents who were physically restrained',\n",
       "       'Percentage of long-stay residents with a urinary tract infection',\n",
       "       'Percentage of long-stay residents who received an antipsychotic medication',\n",
       "       'Percentage of long-stay residents assessed and appropriately given the pneumococcal vaccine',\n",
       "       'Percentage of long-stay residents with a catheter inserted and left in their bladder',\n",
       "       'Percentage of short-stay residents who were assessed and appropriately given the seasonal influenza vaccine',\n",
       "       'Percentage of low risk long-stay residents who lose control of their bowels or bladder',\n",
       "       'Percentage of long-stay residents assessed and appropriately given the seasonal influenza vaccine'], dtype=object)"
      ]
     },
     "execution_count": 44,
     "metadata": {},
     "output_type": "execute_result"
    }
   ],
   "source": [
    "quality['Measure Description'].unique()"
   ]
  },
  {
   "cell_type": "code",
   "execution_count": 45,
   "metadata": {
    "collapsed": false
   },
   "outputs": [
    {
     "name": "stderr",
     "output_type": "stream",
     "text": [
      "/Users/epetenko/miniconda2/lib/python2.7/site-packages/ipykernel/__main__.py:13: FutureWarning: Sorting because non-concatenation axis is not aligned. A future version\n",
      "of pandas will change to not sort by default.\n",
      "\n",
      "To accept the future behavior, pass 'sort=False'.\n",
      "\n",
      "To retain the current behavior and silence the warning, pass 'sort=True'.\n",
      "\n"
     ]
    },
    {
     "data": {
      "text/html": [
       "<div>\n",
       "<style scoped>\n",
       "    .dataframe tbody tr th:only-of-type {\n",
       "        vertical-align: middle;\n",
       "    }\n",
       "\n",
       "    .dataframe tbody tr th {\n",
       "        vertical-align: top;\n",
       "    }\n",
       "\n",
       "    .dataframe thead th {\n",
       "        text-align: right;\n",
       "    }\n",
       "</style>\n",
       "<table border=\"1\" class=\"dataframe\">\n",
       "  <thead>\n",
       "    <tr style=\"text-align: right;\">\n",
       "      <th></th>\n",
       "      <th>Percent with fall</th>\n",
       "      <th>Percent restrained</th>\n",
       "      <th>Percent_antianxiety</th>\n",
       "      <th>Percent_antipsychotic</th>\n",
       "      <th>Percent with psych meds</th>\n",
       "    </tr>\n",
       "  </thead>\n",
       "  <tbody>\n",
       "    <tr>\n",
       "      <th>015009</th>\n",
       "      <td>2.105260</td>\n",
       "      <td>0.00000</td>\n",
       "      <td>44.705881</td>\n",
       "      <td>15.083800</td>\n",
       "      <td>59.789681</td>\n",
       "    </tr>\n",
       "    <tr>\n",
       "      <th>015010</th>\n",
       "      <td>4.329004</td>\n",
       "      <td>0.00000</td>\n",
       "      <td>28.019322</td>\n",
       "      <td>35.294120</td>\n",
       "      <td>63.313442</td>\n",
       "    </tr>\n",
       "    <tr>\n",
       "      <th>015012</th>\n",
       "      <td>11.267605</td>\n",
       "      <td>0.00000</td>\n",
       "      <td>47.107439</td>\n",
       "      <td>0.000000</td>\n",
       "      <td>47.107439</td>\n",
       "    </tr>\n",
       "    <tr>\n",
       "      <th>015014</th>\n",
       "      <td>1.277954</td>\n",
       "      <td>0.00000</td>\n",
       "      <td>14.332245</td>\n",
       "      <td>7.636363</td>\n",
       "      <td>21.968608</td>\n",
       "    </tr>\n",
       "    <tr>\n",
       "      <th>015015</th>\n",
       "      <td>1.457727</td>\n",
       "      <td>0.58309</td>\n",
       "      <td>47.703180</td>\n",
       "      <td>32.831325</td>\n",
       "      <td>80.534505</td>\n",
       "    </tr>\n",
       "  </tbody>\n",
       "</table>\n",
       "</div>"
      ],
      "text/plain": [
       "        Percent with fall  Percent restrained  Percent_antianxiety  \\\n",
       "015009           2.105260             0.00000            44.705881   \n",
       "015010           4.329004             0.00000            28.019322   \n",
       "015012          11.267605             0.00000            47.107439   \n",
       "015014           1.277954             0.00000            14.332245   \n",
       "015015           1.457727             0.58309            47.703180   \n",
       "\n",
       "        Percent_antipsychotic  Percent with psych meds  \n",
       "015009              15.083800                59.789681  \n",
       "015010              35.294120                63.313442  \n",
       "015012               0.000000                47.107439  \n",
       "015014               7.636363                21.968608  \n",
       "015015              32.831325                80.534505  "
      ]
     },
     "execution_count": 45,
     "metadata": {},
     "output_type": "execute_result"
    }
   ],
   "source": [
    "#filtering the dataset and creating a new dataframe of it \n",
    "quality = quality.set_index('Federal Provider Number')\n",
    "\n",
    "quality_fall = quality[quality['Measure Description'] == 'Percentage of long-stay residents experiencing one or more falls with major injury'][['Four Quarter Average Score']].rename(columns={\n",
    "        'Four Quarter Average Score':'Percent with fall'})\n",
    "quality_res = quality[quality['Measure Description'] == 'Percentage of long-stay residents who were physically restrained'][['Four Quarter Average Score']].rename(columns={\n",
    "        'Four Quarter Average Score':'Percent restrained'})\n",
    "quality_anx = quality[quality['Measure Description'] == 'Percentage of long-stay residents who received an antianxiety or hypnotic medication'][['Four Quarter Average Score']].rename(columns={\n",
    "        'Four Quarter Average Score':'Percent_antianxiety'})\n",
    "quality_psy = quality[quality['Measure Description'] == 'Percentage of long-stay residents who received an antipsychotic medication'][['Four Quarter Average Score']].rename(columns={\n",
    "        'Four Quarter Average Score':'Percent_antipsychotic'})\n",
    "\n",
    "quality_short = pd.concat([quality_fall, quality_res, quality_anx, quality_psy], axis=1)\n",
    "quality_short['Percent with psych meds'] = quality_short['Percent_antianxiety'] + quality_short['Percent_antipsychotic']\n",
    "quality_short.head()"
   ]
  },
  {
   "cell_type": "code",
   "execution_count": 46,
   "metadata": {
    "collapsed": false
   },
   "outputs": [
    {
     "data": {
      "text/html": [
       "<div>\n",
       "<style scoped>\n",
       "    .dataframe tbody tr th:only-of-type {\n",
       "        vertical-align: middle;\n",
       "    }\n",
       "\n",
       "    .dataframe tbody tr th {\n",
       "        vertical-align: top;\n",
       "    }\n",
       "\n",
       "    .dataframe thead th {\n",
       "        text-align: right;\n",
       "    }\n",
       "</style>\n",
       "<table border=\"1\" class=\"dataframe\">\n",
       "  <thead>\n",
       "    <tr style=\"text-align: right;\">\n",
       "      <th></th>\n",
       "      <th>Federal Provider Number</th>\n",
       "      <th>Provider Name</th>\n",
       "      <th>Provider Address</th>\n",
       "      <th>Provider City</th>\n",
       "      <th>Provider State</th>\n",
       "      <th>Provider Zip Code</th>\n",
       "      <th>Provider Phone Number</th>\n",
       "      <th>Provider SSA County Code</th>\n",
       "      <th>Provider County Name</th>\n",
       "      <th>Ownership Type</th>\n",
       "      <th>...</th>\n",
       "      <th>lat</th>\n",
       "      <th>long</th>\n",
       "      <th>Percent with fall</th>\n",
       "      <th>Percent restrained</th>\n",
       "      <th>Percent_antianxiety</th>\n",
       "      <th>Percent_antipsychotic</th>\n",
       "      <th>Percent with psych meds</th>\n",
       "      <th>Fall_Rank</th>\n",
       "      <th>Restrained_rank</th>\n",
       "      <th>Psych_meds_rank</th>\n",
       "    </tr>\n",
       "  </thead>\n",
       "  <tbody>\n",
       "    <tr>\n",
       "      <th>0</th>\n",
       "      <td>315002</td>\n",
       "      <td>CARE ONE AT SOMERSET VALLEY</td>\n",
       "      <td>1621 ROUTE 22 WEST</td>\n",
       "      <td>BOUND BROOK</td>\n",
       "      <td>NJ</td>\n",
       "      <td>8805</td>\n",
       "      <td>7324692000</td>\n",
       "      <td>350</td>\n",
       "      <td>Somerset</td>\n",
       "      <td>For profit - Corporation</td>\n",
       "      <td>...</td>\n",
       "      <td>NaN</td>\n",
       "      <td>NaN</td>\n",
       "      <td>0.000000</td>\n",
       "      <td>0.0</td>\n",
       "      <td>NaN</td>\n",
       "      <td>0.000000</td>\n",
       "      <td>NaN</td>\n",
       "      <td>14.0</td>\n",
       "      <td>140.0</td>\n",
       "      <td>NaN</td>\n",
       "    </tr>\n",
       "    <tr>\n",
       "      <th>1</th>\n",
       "      <td>315008</td>\n",
       "      <td>LAUREL MANOR HEALTHCARE AND REHABILITATION CENTER</td>\n",
       "      <td>18 W LAUREL ROAD</td>\n",
       "      <td>STRATFORD</td>\n",
       "      <td>NJ</td>\n",
       "      <td>8084</td>\n",
       "      <td>8567842400</td>\n",
       "      <td>160</td>\n",
       "      <td>Camden</td>\n",
       "      <td>For profit - Partnership</td>\n",
       "      <td>...</td>\n",
       "      <td>NaN</td>\n",
       "      <td>NaN</td>\n",
       "      <td>0.343642</td>\n",
       "      <td>0.0</td>\n",
       "      <td>16.296299</td>\n",
       "      <td>11.284047</td>\n",
       "      <td>27.580346</td>\n",
       "      <td>31.0</td>\n",
       "      <td>140.0</td>\n",
       "      <td>190.0</td>\n",
       "    </tr>\n",
       "    <tr>\n",
       "      <th>2</th>\n",
       "      <td>315015</td>\n",
       "      <td>MADISON CENTER</td>\n",
       "      <td>625 STATE HIGHWAY 34</td>\n",
       "      <td>MATAWAN</td>\n",
       "      <td>NJ</td>\n",
       "      <td>7747</td>\n",
       "      <td>7325666400</td>\n",
       "      <td>290</td>\n",
       "      <td>Monmouth</td>\n",
       "      <td>For profit - Corporation</td>\n",
       "      <td>...</td>\n",
       "      <td>NaN</td>\n",
       "      <td>NaN</td>\n",
       "      <td>2.460849</td>\n",
       "      <td>0.0</td>\n",
       "      <td>24.065422</td>\n",
       "      <td>12.732096</td>\n",
       "      <td>36.797518</td>\n",
       "      <td>191.0</td>\n",
       "      <td>140.0</td>\n",
       "      <td>282.0</td>\n",
       "    </tr>\n",
       "    <tr>\n",
       "      <th>3</th>\n",
       "      <td>315057</td>\n",
       "      <td>MERRY HEART NURSING HOME</td>\n",
       "      <td>200 RT 10 WEST</td>\n",
       "      <td>SUCCASUNNA</td>\n",
       "      <td>NJ</td>\n",
       "      <td>7876</td>\n",
       "      <td>9735844000</td>\n",
       "      <td>300</td>\n",
       "      <td>Morris</td>\n",
       "      <td>For profit - Partnership</td>\n",
       "      <td>...</td>\n",
       "      <td>NaN</td>\n",
       "      <td>NaN</td>\n",
       "      <td>6.153846</td>\n",
       "      <td>0.0</td>\n",
       "      <td>16.872428</td>\n",
       "      <td>9.836067</td>\n",
       "      <td>26.708495</td>\n",
       "      <td>344.0</td>\n",
       "      <td>140.0</td>\n",
       "      <td>179.0</td>\n",
       "    </tr>\n",
       "    <tr>\n",
       "      <th>4</th>\n",
       "      <td>315087</td>\n",
       "      <td>CARE ONE AT KING JAMES</td>\n",
       "      <td>1040 ROUTE 36</td>\n",
       "      <td>ATLANTIC HIGHLANDS</td>\n",
       "      <td>NJ</td>\n",
       "      <td>7716</td>\n",
       "      <td>7322913400</td>\n",
       "      <td>290</td>\n",
       "      <td>Monmouth</td>\n",
       "      <td>For profit - Corporation</td>\n",
       "      <td>...</td>\n",
       "      <td>NaN</td>\n",
       "      <td>NaN</td>\n",
       "      <td>2.713178</td>\n",
       "      <td>0.0</td>\n",
       "      <td>25.352110</td>\n",
       "      <td>10.358567</td>\n",
       "      <td>35.710677</td>\n",
       "      <td>217.0</td>\n",
       "      <td>140.0</td>\n",
       "      <td>270.0</td>\n",
       "    </tr>\n",
       "  </tbody>\n",
       "</table>\n",
       "<p>5 rows × 115 columns</p>\n",
       "</div>"
      ],
      "text/plain": [
       "  Federal Provider Number                                      Provider Name  \\\n",
       "0                  315002                        CARE ONE AT SOMERSET VALLEY   \n",
       "1                  315008  LAUREL MANOR HEALTHCARE AND REHABILITATION CENTER   \n",
       "2                  315015                                     MADISON CENTER   \n",
       "3                  315057                           MERRY HEART NURSING HOME   \n",
       "4                  315087                             CARE ONE AT KING JAMES   \n",
       "\n",
       "       Provider Address       Provider City Provider State  Provider Zip Code  \\\n",
       "0    1621 ROUTE 22 WEST         BOUND BROOK             NJ               8805   \n",
       "1      18 W LAUREL ROAD           STRATFORD             NJ               8084   \n",
       "2  625 STATE HIGHWAY 34             MATAWAN             NJ               7747   \n",
       "3        200 RT 10 WEST          SUCCASUNNA             NJ               7876   \n",
       "4         1040 ROUTE 36  ATLANTIC HIGHLANDS             NJ               7716   \n",
       "\n",
       "   Provider Phone Number  Provider SSA County Code Provider County Name  \\\n",
       "0             7324692000                       350             Somerset   \n",
       "1             8567842400                       160               Camden   \n",
       "2             7325666400                       290             Monmouth   \n",
       "3             9735844000                       300               Morris   \n",
       "4             7322913400                       290             Monmouth   \n",
       "\n",
       "             Ownership Type  ...  lat  long Percent with fall  \\\n",
       "0  For profit - Corporation  ...  NaN   NaN          0.000000   \n",
       "1  For profit - Partnership  ...  NaN   NaN          0.343642   \n",
       "2  For profit - Corporation  ...  NaN   NaN          2.460849   \n",
       "3  For profit - Partnership  ...  NaN   NaN          6.153846   \n",
       "4  For profit - Corporation  ...  NaN   NaN          2.713178   \n",
       "\n",
       "   Percent restrained Percent_antianxiety Percent_antipsychotic  \\\n",
       "0                 0.0                 NaN              0.000000   \n",
       "1                 0.0           16.296299             11.284047   \n",
       "2                 0.0           24.065422             12.732096   \n",
       "3                 0.0           16.872428              9.836067   \n",
       "4                 0.0           25.352110             10.358567   \n",
       "\n",
       "   Percent with psych meds  Fall_Rank  Restrained_rank  Psych_meds_rank  \n",
       "0                      NaN       14.0            140.0              NaN  \n",
       "1                27.580346       31.0            140.0            190.0  \n",
       "2                36.797518      191.0            140.0            282.0  \n",
       "3                26.708495      344.0            140.0            179.0  \n",
       "4                35.710677      217.0            140.0            270.0  \n",
       "\n",
       "[5 rows x 115 columns]"
      ]
     },
     "execution_count": 46,
     "metadata": {},
     "output_type": "execute_result"
    }
   ],
   "source": [
    "#merge that with whole dataset\n",
    "st_cms = st_cms.merge(quality_short, left_on='Federal Provider Number', \n",
    "                     right_index=True, how='left')\n",
    "\n",
    "st_cms['Fall_Rank'] = st_cms['Percent with fall'].rank()\n",
    "st_cms['Restrained_rank'] = st_cms['Percent restrained'].rank()\n",
    "st_cms['Psych_meds_rank'] = st_cms['Percent with psych meds'].rank()\n",
    "\n",
    "st_cms.head()"
   ]
  },
  {
   "cell_type": "code",
   "execution_count": 47,
   "metadata": {
    "collapsed": false
   },
   "outputs": [
    {
     "data": {
      "text/html": [
       "<div>\n",
       "<style scoped>\n",
       "    .dataframe tbody tr th:only-of-type {\n",
       "        vertical-align: middle;\n",
       "    }\n",
       "\n",
       "    .dataframe tbody tr th {\n",
       "        vertical-align: top;\n",
       "    }\n",
       "\n",
       "    .dataframe thead th {\n",
       "        text-align: right;\n",
       "    }\n",
       "</style>\n",
       "<table border=\"1\" class=\"dataframe\">\n",
       "  <thead>\n",
       "    <tr style=\"text-align: right;\">\n",
       "      <th></th>\n",
       "      <th>Percent with fall</th>\n",
       "      <th>Percent restrained</th>\n",
       "      <th>Percent_antianxiety</th>\n",
       "      <th>Percent_antipsychotic</th>\n",
       "      <th>Percent with psych meds</th>\n",
       "    </tr>\n",
       "  </thead>\n",
       "  <tbody>\n",
       "    <tr>\n",
       "      <th>count</th>\n",
       "      <td>15032.000000</td>\n",
       "      <td>15031.000000</td>\n",
       "      <td>15003.000000</td>\n",
       "      <td>15006.000000</td>\n",
       "      <td>14978.000000</td>\n",
       "    </tr>\n",
       "    <tr>\n",
       "      <th>mean</th>\n",
       "      <td>3.380767</td>\n",
       "      <td>0.280020</td>\n",
       "      <td>20.417168</td>\n",
       "      <td>14.561742</td>\n",
       "      <td>34.957373</td>\n",
       "    </tr>\n",
       "    <tr>\n",
       "      <th>std</th>\n",
       "      <td>2.407205</td>\n",
       "      <td>1.755297</td>\n",
       "      <td>10.219210</td>\n",
       "      <td>9.900044</td>\n",
       "      <td>16.338376</td>\n",
       "    </tr>\n",
       "    <tr>\n",
       "      <th>min</th>\n",
       "      <td>0.000000</td>\n",
       "      <td>0.000000</td>\n",
       "      <td>0.000000</td>\n",
       "      <td>0.000000</td>\n",
       "      <td>0.000000</td>\n",
       "    </tr>\n",
       "    <tr>\n",
       "      <th>25%</th>\n",
       "      <td>1.646091</td>\n",
       "      <td>0.000000</td>\n",
       "      <td>13.138685</td>\n",
       "      <td>8.427782</td>\n",
       "      <td>24.150856</td>\n",
       "    </tr>\n",
       "    <tr>\n",
       "      <th>50%</th>\n",
       "      <td>3.021148</td>\n",
       "      <td>0.000000</td>\n",
       "      <td>19.245285</td>\n",
       "      <td>12.982098</td>\n",
       "      <td>32.758747</td>\n",
       "    </tr>\n",
       "    <tr>\n",
       "      <th>75%</th>\n",
       "      <td>4.651161</td>\n",
       "      <td>0.000000</td>\n",
       "      <td>26.153846</td>\n",
       "      <td>18.452380</td>\n",
       "      <td>42.772493</td>\n",
       "    </tr>\n",
       "    <tr>\n",
       "      <th>max</th>\n",
       "      <td>26.422765</td>\n",
       "      <td>98.104266</td>\n",
       "      <td>86.764705</td>\n",
       "      <td>100.000000</td>\n",
       "      <td>160.394394</td>\n",
       "    </tr>\n",
       "  </tbody>\n",
       "</table>\n",
       "</div>"
      ],
      "text/plain": [
       "       Percent with fall  Percent restrained  Percent_antianxiety  \\\n",
       "count       15032.000000        15031.000000         15003.000000   \n",
       "mean            3.380767            0.280020            20.417168   \n",
       "std             2.407205            1.755297            10.219210   \n",
       "min             0.000000            0.000000             0.000000   \n",
       "25%             1.646091            0.000000            13.138685   \n",
       "50%             3.021148            0.000000            19.245285   \n",
       "75%             4.651161            0.000000            26.153846   \n",
       "max            26.422765           98.104266            86.764705   \n",
       "\n",
       "       Percent_antipsychotic  Percent with psych meds  \n",
       "count           15006.000000             14978.000000  \n",
       "mean               14.561742                34.957373  \n",
       "std                 9.900044                16.338376  \n",
       "min                 0.000000                 0.000000  \n",
       "25%                 8.427782                24.150856  \n",
       "50%                12.982098                32.758747  \n",
       "75%                18.452380                42.772493  \n",
       "max               100.000000               160.394394  "
      ]
     },
     "execution_count": 47,
     "metadata": {},
     "output_type": "execute_result"
    }
   ],
   "source": [
    "quality_short.describe()"
   ]
  },
  {
   "cell_type": "code",
   "execution_count": 50,
   "metadata": {
    "collapsed": false
   },
   "outputs": [
    {
     "data": {
      "text/plain": [
       "Index([u'Federal Provider Number', u'Provider Name', u'Provider Address',\n",
       "       u'Provider City', u'Provider State', u'Provider Zip Code',\n",
       "       u'Provider Phone Number', u'Provider SSA County Code',\n",
       "       u'Provider County Name', u'Ownership Type', u'Number of Certified Beds',\n",
       "       u'Average Number of Residents Per Day'],\n",
       "      dtype='object')"
      ]
     },
     "execution_count": 50,
     "metadata": {},
     "output_type": "execute_result"
    }
   ],
   "source": [
    "st_cms.columns[:12]"
   ]
  },
  {
   "cell_type": "markdown",
   "metadata": {},
   "source": [
    "The line below, commented out so it doesn't automatically trigger each time, creates the datasets needed for the lookup tool."
   ]
  },
  {
   "cell_type": "code",
   "execution_count": 51,
   "metadata": {
    "collapsed": true
   },
   "outputs": [],
   "source": [
    "# the csv is for the detailed pages for each NH\n",
    "#  st_cms.to_csv('July_2019_project/Provider_info_w_cost_report_data.csv', index=False)\n",
    "\n",
    "#the JSON is only for the lookup table on the homepage. Warning: Pandas json conversion may be wonky so you may have to wing it with an online converter\n",
    "# st_cms[['Provider Name', 'Provider City', 'Number of Certified Beds', 'Overall Rating','Federal Provider Number']].to_json(\"July_2019_project/Provider_info_w_cost_report_data.json\", orient='values')"
   ]
  }
 ],
 "metadata": {
  "kernelspec": {
   "display_name": "Python 2",
   "language": "python",
   "name": "python2"
  },
  "language_info": {
   "codemirror_mode": {
    "name": "ipython",
    "version": 2
   },
   "file_extension": ".py",
   "mimetype": "text/x-python",
   "name": "python",
   "nbconvert_exporter": "python",
   "pygments_lexer": "ipython2",
   "version": "2.7.6"
  }
 },
 "nbformat": 4,
 "nbformat_minor": 0
}
